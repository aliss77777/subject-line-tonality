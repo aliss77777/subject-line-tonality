{
 "cells": [
  {
   "cell_type": "raw",
   "id": "d97c876a-8377-4722-b688-4024d319f088",
   "metadata": {},
   "source": [
    "building 10/17\n",
    "1. import emotions file\n",
    "2. give this repo a try https://www.earthinversion.com/geophysics/exploratory-factor-analysis/ including\n",
    "  - determine ideal # of factors \n",
    "  - build them as loadings\n",
    "  - explore them\n",
    "  - add to big file \n",
    "3. EDA built in looker studio to be robust and scalable\n",
    "4. d\n",
    "5."
   ]
  },
  {
   "cell_type": "markdown",
   "id": "b4f31ab5-3ea4-4332-a633-78c66deecdf5",
   "metadata": {},
   "source": [
    "# Load libraries and functions"
   ]
  },
  {
   "cell_type": "code",
   "execution_count": 1,
   "id": "29a07bfd-3043-444a-b457-78188304baa8",
   "metadata": {},
   "outputs": [],
   "source": [
    "import pandas as pd\n",
    "import numpy as np\n",
    "\n",
    "#random seed for reproducibility\n",
    "np.random.seed(67)"
   ]
  },
  {
   "cell_type": "code",
   "execution_count": 2,
   "id": "67456930-1114-4d93-af66-68af4590e81c",
   "metadata": {},
   "outputs": [],
   "source": [
    "from factor_analyzer import FactorAnalyzer\n",
    "import matplotlib.pyplot as plt\n",
    "from matplotlib import style\n",
    "import matplotlib\n",
    "from sklearn.preprocessing import StandardScaler\n",
    "\n",
    "from factor_analyzer.factor_analyzer import calculate_bartlett_sphericity\n",
    "from factor_analyzer.factor_analyzer import calculate_kmo\n",
    "\n",
    "matplotlib.rcParams['figure.figsize'] = (10.0, 6.0)\n",
    "\n",
    "style.use('ggplot')\n",
    "\n",
    "import seaborn as sns"
   ]
  },
  {
   "cell_type": "code",
   "execution_count": 3,
   "id": "d53d6d31-c98e-4992-ad2e-42283d886e35",
   "metadata": {},
   "outputs": [],
   "source": [
    "data = pd.read_csv('emotion outputs full v1 enhanced.csv')"
   ]
  },
  {
   "cell_type": "code",
   "execution_count": 4,
   "id": "64a42834-169e-4d76-9241-493ab868baf8",
   "metadata": {},
   "outputs": [],
   "source": [
    "df = data.drop(columns=['top_value','top_label'])"
   ]
  },
  {
   "cell_type": "code",
   "execution_count": 5,
   "id": "0e7dbaa9-0e45-457d-96b7-a9f142b24115",
   "metadata": {},
   "outputs": [
    {
     "data": {
      "text/plain": [
       "(3061, 28)"
      ]
     },
     "execution_count": 5,
     "metadata": {},
     "output_type": "execute_result"
    }
   ],
   "source": [
    "df.shape"
   ]
  },
  {
   "cell_type": "markdown",
   "id": "e37499ef-669c-47e1-90f4-5c3821c3f7d1",
   "metadata": {},
   "source": [
    "# v1_full data set"
   ]
  },
  {
   "cell_type": "markdown",
   "id": "9fc96fc8-b5f5-400d-8323-ebac4a70cc05",
   "metadata": {},
   "source": [
    "## Scaling "
   ]
  },
  {
   "cell_type": "raw",
   "id": "c1749bae-0de5-48fc-87fc-3fe006db2534",
   "metadata": {},
   "source": [
    "let's scale and clean up the data as step one"
   ]
  },
  {
   "cell_type": "code",
   "execution_count": 6,
   "id": "8b848189-10a8-42d6-90bc-2d1cc853dd09",
   "metadata": {},
   "outputs": [
    {
     "data": {
      "text/plain": [
       "admiration        0.004711\n",
       "amusement         0.000527\n",
       "anger             0.000973\n",
       "annoyance         0.001723\n",
       "approval          0.053274\n",
       "caring            0.062025\n",
       "confusion         0.008672\n",
       "curiosity         0.099373\n",
       "desire            0.018974\n",
       "disappointment    0.008067\n",
       "disapproval       0.003048\n",
       "disgust           0.002291\n",
       "embarrassment     0.000126\n",
       "excitement        0.028501\n",
       "fear              0.002248\n",
       "gratitude         0.051647\n",
       "grief             0.003382\n",
       "joy               0.007454\n",
       "love              0.000902\n",
       "nervousness       0.001939\n",
       "optimism          0.016387\n",
       "pride             0.002749\n",
       "realization       0.008897\n",
       "relief            0.000372\n",
       "remorse           0.000959\n",
       "sadness           0.020691\n",
       "surprise          0.010305\n",
       "neutral           0.579785\n",
       "dtype: float64"
      ]
     },
     "execution_count": 6,
     "metadata": {},
     "output_type": "execute_result"
    }
   ],
   "source": [
    "df.mean()"
   ]
  },
  {
   "cell_type": "raw",
   "id": "20ce9ed1-9a9e-4367-9b88-bfe10cec733f",
   "metadata": {},
   "source": [
    "also noticing a lot of vars have almost no signal, maybe want to drop them?"
   ]
  },
  {
   "cell_type": "code",
   "execution_count": 7,
   "id": "3707cedb-9b70-4b92-889c-ec1d0cef238a",
   "metadata": {},
   "outputs": [],
   "source": [
    "scaler = StandardScaler()\n",
    "df_scaled = pd.DataFrame(scaler.fit_transform(df))"
   ]
  },
  {
   "cell_type": "code",
   "execution_count": 8,
   "id": "9f1cf0ff-37d7-4062-8830-e93dc4e2f26d",
   "metadata": {},
   "outputs": [],
   "source": [
    "df_scaled.columns = df.columns"
   ]
  },
  {
   "cell_type": "code",
   "execution_count": null,
   "id": "408f19be-8aa0-4f53-aa67-988088a1e0db",
   "metadata": {},
   "outputs": [],
   "source": []
  },
  {
   "cell_type": "code",
   "execution_count": null,
   "id": "daabbf4b-6019-4127-ad59-7165e3fbf1f9",
   "metadata": {},
   "outputs": [],
   "source": []
  },
  {
   "cell_type": "markdown",
   "id": "5e20e90e-c6f9-4fd4-a03c-f3533822c9e3",
   "metadata": {},
   "source": [
    "## diagnostics to determine if FA is approrpriate"
   ]
  },
  {
   "cell_type": "raw",
   "id": "254ee6b3-3516-4385-894b-1160023f4ea0",
   "metadata": {},
   "source": [
    "Bartlett’s test of sphericity checks whether or not the observed variables intercorrelate at all using the observed correlation matrix against the identity matrix. If the test found statistically insignificant, we should not employ a factor analysis."
   ]
  },
  {
   "cell_type": "code",
   "execution_count": 9,
   "id": "60a43259-2324-4a38-b09f-b284b3d9a788",
   "metadata": {},
   "outputs": [
    {
     "data": {
      "text/plain": [
       "(109447.040376717, 0.0)"
      ]
     },
     "execution_count": 9,
     "metadata": {},
     "output_type": "execute_result"
    }
   ],
   "source": [
    "chi_square_value,p_value=calculate_bartlett_sphericity(df_scaled)\n",
    "chi_square_value, p_value"
   ]
  },
  {
   "cell_type": "code",
   "execution_count": 10,
   "id": "ab9b2973-a06a-46a9-9932-d85bfe376a92",
   "metadata": {},
   "outputs": [
    {
     "name": "stderr",
     "output_type": "stream",
     "text": [
      "/Users/alexanderliss/opt/anaconda3/lib/python3.9/site-packages/factor_analyzer/utils.py:244: UserWarning: The inverse of the variance-covariance matrix was calculated using the Moore-Penrose generalized matrix inversion, due to its determinant being at or very close to zero.\n",
      "  warnings.warn(\n"
     ]
    },
    {
     "data": {
      "text/plain": [
       "0.011904188666522366"
      ]
     },
     "execution_count": 10,
     "metadata": {},
     "output_type": "execute_result"
    }
   ],
   "source": [
    "kmo_all,kmo_model=calculate_kmo(df_scaled)\n",
    "kmo_model"
   ]
  },
  {
   "cell_type": "code",
   "execution_count": null,
   "id": "2970b3e6-4322-459b-9ed5-dc107110d444",
   "metadata": {},
   "outputs": [],
   "source": []
  },
  {
   "cell_type": "markdown",
   "id": "b6e45dab-3423-4453-9d25-02d3aaab65b3",
   "metadata": {},
   "source": [
    "## Determining Number of factors "
   ]
  },
  {
   "cell_type": "code",
   "execution_count": 13,
   "id": "3837343f-c7ff-4296-81ff-3f26a03587be",
   "metadata": {},
   "outputs": [
    {
     "data": {
      "text/plain": [
       "array([2.58256440e+00, 2.06655760e+00, 1.96069061e+00, 1.71700314e+00,\n",
       "       1.36329085e+00, 1.32455339e+00, 1.20614338e+00, 1.12121157e+00,\n",
       "       1.09336062e+00, 1.04951609e+00, 1.03930371e+00, 1.01176017e+00,\n",
       "       1.00354653e+00, 9.93393978e-01, 9.62530521e-01, 9.57880069e-01,\n",
       "       9.01068650e-01, 8.87052418e-01, 8.66793749e-01, 8.29099079e-01,\n",
       "       7.99658267e-01, 6.51163913e-01, 5.97411659e-01, 4.60486967e-01,\n",
       "       3.19050930e-01, 1.96159265e-01, 3.87484852e-02, 2.61820826e-14])"
      ]
     },
     "execution_count": 13,
     "metadata": {},
     "output_type": "execute_result"
    }
   ],
   "source": [
    "fa = FactorAnalyzer(rotation=None)\n",
    "fa.fit(df_scaled)\n",
    "# Check Eigenvalues\n",
    "ev, v = fa.get_eigenvalues()\n",
    "ev"
   ]
  },
  {
   "cell_type": "code",
   "execution_count": 14,
   "id": "d85b8444-2a1b-49fe-971c-d2388b3e82c9",
   "metadata": {},
   "outputs": [
    {
     "data": {
      "image/png": "[encoded data removed]",
      "text/plain": [
       "<Figure size 1000x600 with 1 Axes>"
      ]
     },
     "metadata": {},
     "output_type": "display_data"
    }
   ],
   "source": [
    "plt.scatter(range(1,df.shape[1]+1),ev)\n",
    "plt.plot(range(1,df.shape[1]+1),ev)\n",
    "plt.title('Scree Plot')\n",
    "plt.xlabel('Factors')\n",
    "plt.ylabel('Eigenvalue')\n",
    "plt.axhline(y=1,c='k')\n",
    "\n",
    "plt.show()"
   ]
  },
  {
   "cell_type": "markdown",
   "id": "12b5fec9-462a-4773-ba24-79624a893daf",
   "metadata": {},
   "source": [
    "## running analysis "
   ]
  },
  {
   "cell_type": "code",
   "execution_count": 15,
   "id": "8130e45a-8c64-44de-9cae-554531f2e48f",
   "metadata": {},
   "outputs": [
    {
     "data": {
      "text/plain": [
       "FactorAnalyzer(n_factors=13, rotation='varimax', rotation_kwargs={})"
      ]
     },
     "execution_count": 15,
     "metadata": {},
     "output_type": "execute_result"
    }
   ],
   "source": [
    "fa = FactorAnalyzer(rotation=\"varimax\", n_factors=13)\n",
    "fa.fit(df_scaled)\n",
    "fa\n",
    "#pd.DataFrame(fa.loadings_)"
   ]
  },
  {
   "cell_type": "code",
   "execution_count": 16,
   "id": "24cb2bef-5e0f-48ec-a690-0a6b9b7ebd00",
   "metadata": {},
   "outputs": [
    {
     "data": {
      "text/plain": [
       "(3061, 13)"
      ]
     },
     "execution_count": 16,
     "metadata": {},
     "output_type": "execute_result"
    }
   ],
   "source": [
    "scores = fa.transform(df_scaled)\n",
    "scores.shape"
   ]
  },
  {
   "cell_type": "code",
   "execution_count": 17,
   "id": "deb08dc8-9577-4f92-b2ee-3d6bca74b46e",
   "metadata": {},
   "outputs": [
    {
     "data": {
      "text/html": [
       "<div>\n",
       "<style scoped>\n",
       "    .dataframe tbody tr th:only-of-type {\n",
       "        vertical-align: middle;\n",
       "    }\n",
       "\n",
       "    .dataframe tbody tr th {\n",
       "        vertical-align: top;\n",
       "    }\n",
       "\n",
       "    .dataframe thead th {\n",
       "        text-align: right;\n",
       "    }\n",
       "</style>\n",
       "<table border=\"1\" class=\"dataframe\">\n",
       "  <thead>\n",
       "    <tr style=\"text-align: right;\">\n",
       "      <th></th>\n",
       "      <th>0</th>\n",
       "      <th>1</th>\n",
       "      <th>2</th>\n",
       "      <th>3</th>\n",
       "      <th>4</th>\n",
       "      <th>5</th>\n",
       "      <th>6</th>\n",
       "      <th>7</th>\n",
       "      <th>8</th>\n",
       "      <th>9</th>\n",
       "      <th>10</th>\n",
       "      <th>11</th>\n",
       "      <th>12</th>\n",
       "    </tr>\n",
       "  </thead>\n",
       "  <tbody>\n",
       "    <tr>\n",
       "      <th>admiration</th>\n",
       "      <td>-0.004276</td>\n",
       "      <td>-0.002651</td>\n",
       "      <td>-0.006768</td>\n",
       "      <td>0.009835</td>\n",
       "      <td>-0.029603</td>\n",
       "      <td>0.120602</td>\n",
       "      <td>-0.003941</td>\n",
       "      <td>0.001938</td>\n",
       "      <td>0.022254</td>\n",
       "      <td>0.009284</td>\n",
       "      <td>0.031295</td>\n",
       "      <td>0.128530</td>\n",
       "      <td>-0.027857</td>\n",
       "    </tr>\n",
       "    <tr>\n",
       "      <th>amusement</th>\n",
       "      <td>0.010615</td>\n",
       "      <td>-0.016834</td>\n",
       "      <td>0.301922</td>\n",
       "      <td>-0.028516</td>\n",
       "      <td>-0.017613</td>\n",
       "      <td>-0.013614</td>\n",
       "      <td>0.043236</td>\n",
       "      <td>0.097244</td>\n",
       "      <td>0.003672</td>\n",
       "      <td>-0.001064</td>\n",
       "      <td>-0.003291</td>\n",
       "      <td>0.127243</td>\n",
       "      <td>-0.048536</td>\n",
       "    </tr>\n",
       "    <tr>\n",
       "      <th>anger</th>\n",
       "      <td>0.021347</td>\n",
       "      <td>0.945964</td>\n",
       "      <td>-0.029677</td>\n",
       "      <td>0.016196</td>\n",
       "      <td>-0.016124</td>\n",
       "      <td>-0.006571</td>\n",
       "      <td>0.238319</td>\n",
       "      <td>0.047071</td>\n",
       "      <td>0.017686</td>\n",
       "      <td>-0.001729</td>\n",
       "      <td>0.004313</td>\n",
       "      <td>-0.019599</td>\n",
       "      <td>0.017593</td>\n",
       "    </tr>\n",
       "    <tr>\n",
       "      <th>annoyance</th>\n",
       "      <td>0.033827</td>\n",
       "      <td>0.730008</td>\n",
       "      <td>0.118023</td>\n",
       "      <td>-0.013482</td>\n",
       "      <td>0.004780</td>\n",
       "      <td>-0.014739</td>\n",
       "      <td>0.007084</td>\n",
       "      <td>-0.027586</td>\n",
       "      <td>-0.007343</td>\n",
       "      <td>-0.004768</td>\n",
       "      <td>-0.005065</td>\n",
       "      <td>-0.055635</td>\n",
       "      <td>0.039528</td>\n",
       "    </tr>\n",
       "    <tr>\n",
       "      <th>approval</th>\n",
       "      <td>-0.027452</td>\n",
       "      <td>-0.011985</td>\n",
       "      <td>0.004844</td>\n",
       "      <td>0.049112</td>\n",
       "      <td>-0.073165</td>\n",
       "      <td>-0.010218</td>\n",
       "      <td>-0.002256</td>\n",
       "      <td>-0.019227</td>\n",
       "      <td>0.989114</td>\n",
       "      <td>-0.018309</td>\n",
       "      <td>-0.007669</td>\n",
       "      <td>-0.001361</td>\n",
       "      <td>0.110700</td>\n",
       "    </tr>\n",
       "    <tr>\n",
       "      <th>caring</th>\n",
       "      <td>-0.022101</td>\n",
       "      <td>-0.012249</td>\n",
       "      <td>-0.072006</td>\n",
       "      <td>0.966901</td>\n",
       "      <td>-0.071023</td>\n",
       "      <td>-0.090546</td>\n",
       "      <td>-0.016691</td>\n",
       "      <td>0.078994</td>\n",
       "      <td>-0.070388</td>\n",
       "      <td>-0.019662</td>\n",
       "      <td>-0.044013</td>\n",
       "      <td>-0.147906</td>\n",
       "      <td>-0.091435</td>\n",
       "    </tr>\n",
       "    <tr>\n",
       "      <th>confusion</th>\n",
       "      <td>-0.002120</td>\n",
       "      <td>0.004350</td>\n",
       "      <td>0.001841</td>\n",
       "      <td>-0.016634</td>\n",
       "      <td>0.163111</td>\n",
       "      <td>-0.012042</td>\n",
       "      <td>-0.010325</td>\n",
       "      <td>-0.007781</td>\n",
       "      <td>-0.017731</td>\n",
       "      <td>-0.005920</td>\n",
       "      <td>-0.002512</td>\n",
       "      <td>-0.003290</td>\n",
       "      <td>0.019990</td>\n",
       "    </tr>\n",
       "    <tr>\n",
       "      <th>curiosity</th>\n",
       "      <td>-0.004323</td>\n",
       "      <td>-0.036248</td>\n",
       "      <td>-0.040370</td>\n",
       "      <td>-0.058674</td>\n",
       "      <td>0.983410</td>\n",
       "      <td>-0.044535</td>\n",
       "      <td>0.003626</td>\n",
       "      <td>-0.013021</td>\n",
       "      <td>-0.004770</td>\n",
       "      <td>0.002064</td>\n",
       "      <td>-0.005987</td>\n",
       "      <td>-0.057335</td>\n",
       "      <td>-0.168589</td>\n",
       "    </tr>\n",
       "    <tr>\n",
       "      <th>desire</th>\n",
       "      <td>-0.011000</td>\n",
       "      <td>0.116006</td>\n",
       "      <td>0.010815</td>\n",
       "      <td>0.010549</td>\n",
       "      <td>-0.033115</td>\n",
       "      <td>-0.017911</td>\n",
       "      <td>0.989576</td>\n",
       "      <td>0.038162</td>\n",
       "      <td>-0.008842</td>\n",
       "      <td>-0.006861</td>\n",
       "      <td>-0.004871</td>\n",
       "      <td>-0.028405</td>\n",
       "      <td>0.009555</td>\n",
       "    </tr>\n",
       "    <tr>\n",
       "      <th>disappointment</th>\n",
       "      <td>0.217939</td>\n",
       "      <td>0.076167</td>\n",
       "      <td>-0.002166</td>\n",
       "      <td>-0.008442</td>\n",
       "      <td>0.007712</td>\n",
       "      <td>-0.011506</td>\n",
       "      <td>-0.028502</td>\n",
       "      <td>0.006878</td>\n",
       "      <td>-0.043062</td>\n",
       "      <td>-0.006906</td>\n",
       "      <td>-0.006087</td>\n",
       "      <td>-0.007968</td>\n",
       "      <td>0.244615</td>\n",
       "    </tr>\n",
       "    <tr>\n",
       "      <th>disapproval</th>\n",
       "      <td>-0.003522</td>\n",
       "      <td>0.038924</td>\n",
       "      <td>-0.010460</td>\n",
       "      <td>-0.005056</td>\n",
       "      <td>-0.001176</td>\n",
       "      <td>-0.004325</td>\n",
       "      <td>0.016539</td>\n",
       "      <td>-0.000366</td>\n",
       "      <td>0.002597</td>\n",
       "      <td>-0.002080</td>\n",
       "      <td>-0.000475</td>\n",
       "      <td>0.002389</td>\n",
       "      <td>0.053230</td>\n",
       "    </tr>\n",
       "    <tr>\n",
       "      <th>disgust</th>\n",
       "      <td>0.029266</td>\n",
       "      <td>0.544745</td>\n",
       "      <td>-0.015123</td>\n",
       "      <td>-0.002649</td>\n",
       "      <td>0.007225</td>\n",
       "      <td>0.001067</td>\n",
       "      <td>-0.066956</td>\n",
       "      <td>-0.008346</td>\n",
       "      <td>-0.017784</td>\n",
       "      <td>-0.000653</td>\n",
       "      <td>-0.000851</td>\n",
       "      <td>0.004012</td>\n",
       "      <td>0.081550</td>\n",
       "    </tr>\n",
       "    <tr>\n",
       "      <th>embarrassment</th>\n",
       "      <td>0.990161</td>\n",
       "      <td>0.072905</td>\n",
       "      <td>0.057003</td>\n",
       "      <td>0.008843</td>\n",
       "      <td>-0.003187</td>\n",
       "      <td>-0.005474</td>\n",
       "      <td>-0.006600</td>\n",
       "      <td>0.005197</td>\n",
       "      <td>0.004168</td>\n",
       "      <td>0.012681</td>\n",
       "      <td>0.010033</td>\n",
       "      <td>0.003785</td>\n",
       "      <td>0.107241</td>\n",
       "    </tr>\n",
       "    <tr>\n",
       "      <th>excitement</th>\n",
       "      <td>-0.022677</td>\n",
       "      <td>-0.024282</td>\n",
       "      <td>0.011773</td>\n",
       "      <td>0.011154</td>\n",
       "      <td>0.007761</td>\n",
       "      <td>-0.021174</td>\n",
       "      <td>-0.006026</td>\n",
       "      <td>-0.021770</td>\n",
       "      <td>-0.044185</td>\n",
       "      <td>0.014513</td>\n",
       "      <td>-0.014100</td>\n",
       "      <td>0.335747</td>\n",
       "      <td>0.106647</td>\n",
       "    </tr>\n",
       "    <tr>\n",
       "      <th>fear</th>\n",
       "      <td>0.024367</td>\n",
       "      <td>0.096366</td>\n",
       "      <td>0.985240</td>\n",
       "      <td>0.059900</td>\n",
       "      <td>0.010952</td>\n",
       "      <td>-0.006241</td>\n",
       "      <td>-0.043422</td>\n",
       "      <td>0.048435</td>\n",
       "      <td>-0.027702</td>\n",
       "      <td>0.005770</td>\n",
       "      <td>-0.001449</td>\n",
       "      <td>-0.057570</td>\n",
       "      <td>0.076354</td>\n",
       "    </tr>\n",
       "    <tr>\n",
       "      <th>gratitude</th>\n",
       "      <td>-0.014946</td>\n",
       "      <td>-0.028535</td>\n",
       "      <td>-0.027414</td>\n",
       "      <td>0.026486</td>\n",
       "      <td>-0.040081</td>\n",
       "      <td>0.997152</td>\n",
       "      <td>-0.017163</td>\n",
       "      <td>-0.008842</td>\n",
       "      <td>-0.049905</td>\n",
       "      <td>-0.021595</td>\n",
       "      <td>-0.029284</td>\n",
       "      <td>-0.016155</td>\n",
       "      <td>-0.029111</td>\n",
       "    </tr>\n",
       "    <tr>\n",
       "      <th>grief</th>\n",
       "      <td>0.010498</td>\n",
       "      <td>-0.009140</td>\n",
       "      <td>0.021583</td>\n",
       "      <td>0.030528</td>\n",
       "      <td>-0.019963</td>\n",
       "      <td>0.004096</td>\n",
       "      <td>0.023353</td>\n",
       "      <td>0.451467</td>\n",
       "      <td>-0.017584</td>\n",
       "      <td>-0.001570</td>\n",
       "      <td>0.012466</td>\n",
       "      <td>-0.007998</td>\n",
       "      <td>0.054063</td>\n",
       "    </tr>\n",
       "    <tr>\n",
       "      <th>joy</th>\n",
       "      <td>0.004290</td>\n",
       "      <td>-0.003786</td>\n",
       "      <td>0.094734</td>\n",
       "      <td>0.028262</td>\n",
       "      <td>0.003352</td>\n",
       "      <td>0.011069</td>\n",
       "      <td>-0.015635</td>\n",
       "      <td>0.137257</td>\n",
       "      <td>0.036055</td>\n",
       "      <td>-0.014548</td>\n",
       "      <td>-0.005536</td>\n",
       "      <td>0.473274</td>\n",
       "      <td>-0.102790</td>\n",
       "    </tr>\n",
       "    <tr>\n",
       "      <th>love</th>\n",
       "      <td>0.099657</td>\n",
       "      <td>0.013881</td>\n",
       "      <td>0.220488</td>\n",
       "      <td>-0.019036</td>\n",
       "      <td>-0.001371</td>\n",
       "      <td>-0.010000</td>\n",
       "      <td>-0.008234</td>\n",
       "      <td>0.887814</td>\n",
       "      <td>0.015958</td>\n",
       "      <td>0.003224</td>\n",
       "      <td>-0.012870</td>\n",
       "      <td>0.152905</td>\n",
       "      <td>-0.055768</td>\n",
       "    </tr>\n",
       "    <tr>\n",
       "      <th>nervousness</th>\n",
       "      <td>0.006496</td>\n",
       "      <td>0.003795</td>\n",
       "      <td>0.685464</td>\n",
       "      <td>0.048143</td>\n",
       "      <td>-0.000935</td>\n",
       "      <td>-0.007116</td>\n",
       "      <td>-0.018340</td>\n",
       "      <td>0.035745</td>\n",
       "      <td>0.021022</td>\n",
       "      <td>0.002565</td>\n",
       "      <td>-0.000878</td>\n",
       "      <td>0.024755</td>\n",
       "      <td>0.083226</td>\n",
       "    </tr>\n",
       "    <tr>\n",
       "      <th>optimism</th>\n",
       "      <td>0.016719</td>\n",
       "      <td>-0.008742</td>\n",
       "      <td>0.004040</td>\n",
       "      <td>0.093338</td>\n",
       "      <td>-0.011637</td>\n",
       "      <td>0.013282</td>\n",
       "      <td>0.017517</td>\n",
       "      <td>-0.033482</td>\n",
       "      <td>0.024294</td>\n",
       "      <td>-0.002282</td>\n",
       "      <td>0.006597</td>\n",
       "      <td>0.076297</td>\n",
       "      <td>0.068748</td>\n",
       "    </tr>\n",
       "    <tr>\n",
       "      <th>pride</th>\n",
       "      <td>0.000539</td>\n",
       "      <td>-0.003617</td>\n",
       "      <td>-0.005509</td>\n",
       "      <td>0.024159</td>\n",
       "      <td>-0.009192</td>\n",
       "      <td>0.012694</td>\n",
       "      <td>-0.003785</td>\n",
       "      <td>0.011050</td>\n",
       "      <td>-0.004977</td>\n",
       "      <td>-0.002599</td>\n",
       "      <td>0.881046</td>\n",
       "      <td>0.014527</td>\n",
       "      <td>0.003319</td>\n",
       "    </tr>\n",
       "    <tr>\n",
       "      <th>realization</th>\n",
       "      <td>-0.002822</td>\n",
       "      <td>-0.003124</td>\n",
       "      <td>0.005598</td>\n",
       "      <td>0.000712</td>\n",
       "      <td>-0.005200</td>\n",
       "      <td>-0.004802</td>\n",
       "      <td>-0.008722</td>\n",
       "      <td>-0.002905</td>\n",
       "      <td>0.048291</td>\n",
       "      <td>0.003562</td>\n",
       "      <td>0.002492</td>\n",
       "      <td>0.013934</td>\n",
       "      <td>0.098133</td>\n",
       "    </tr>\n",
       "    <tr>\n",
       "      <th>relief</th>\n",
       "      <td>0.006213</td>\n",
       "      <td>0.001493</td>\n",
       "      <td>0.160770</td>\n",
       "      <td>0.369570</td>\n",
       "      <td>-0.061060</td>\n",
       "      <td>0.108460</td>\n",
       "      <td>-0.017143</td>\n",
       "      <td>0.015061</td>\n",
       "      <td>0.074323</td>\n",
       "      <td>-0.001212</td>\n",
       "      <td>0.063925</td>\n",
       "      <td>0.214964</td>\n",
       "      <td>-0.021606</td>\n",
       "    </tr>\n",
       "    <tr>\n",
       "      <th>remorse</th>\n",
       "      <td>0.943783</td>\n",
       "      <td>-0.028858</td>\n",
       "      <td>-0.015128</td>\n",
       "      <td>0.016959</td>\n",
       "      <td>-0.012364</td>\n",
       "      <td>-0.002752</td>\n",
       "      <td>0.016521</td>\n",
       "      <td>0.096258</td>\n",
       "      <td>0.003889</td>\n",
       "      <td>-0.006586</td>\n",
       "      <td>-0.003365</td>\n",
       "      <td>-0.021148</td>\n",
       "      <td>0.075532</td>\n",
       "    </tr>\n",
       "    <tr>\n",
       "      <th>sadness</th>\n",
       "      <td>0.188313</td>\n",
       "      <td>0.022547</td>\n",
       "      <td>0.107990</td>\n",
       "      <td>0.003656</td>\n",
       "      <td>0.008895</td>\n",
       "      <td>-0.019889</td>\n",
       "      <td>-0.013798</td>\n",
       "      <td>0.063153</td>\n",
       "      <td>-0.073586</td>\n",
       "      <td>-0.008276</td>\n",
       "      <td>-0.008137</td>\n",
       "      <td>-0.061636</td>\n",
       "      <td>0.372908</td>\n",
       "    </tr>\n",
       "    <tr>\n",
       "      <th>surprise</th>\n",
       "      <td>-0.000602</td>\n",
       "      <td>-0.011606</td>\n",
       "      <td>0.005784</td>\n",
       "      <td>-0.010911</td>\n",
       "      <td>-0.015237</td>\n",
       "      <td>-0.004360</td>\n",
       "      <td>-0.006869</td>\n",
       "      <td>-0.001049</td>\n",
       "      <td>-0.014455</td>\n",
       "      <td>0.997642</td>\n",
       "      <td>-0.002868</td>\n",
       "      <td>0.020586</td>\n",
       "      <td>-0.001379</td>\n",
       "    </tr>\n",
       "    <tr>\n",
       "      <th>neutral</th>\n",
       "      <td>-0.057703</td>\n",
       "      <td>-0.073349</td>\n",
       "      <td>-0.025449</td>\n",
       "      <td>-0.480579</td>\n",
       "      <td>-0.517473</td>\n",
       "      <td>-0.344763</td>\n",
       "      <td>-0.180991</td>\n",
       "      <td>-0.100609</td>\n",
       "      <td>-0.217860</td>\n",
       "      <td>-0.143667</td>\n",
       "      <td>-0.056457</td>\n",
       "      <td>-0.305502</td>\n",
       "      <td>-0.466777</td>\n",
       "    </tr>\n",
       "  </tbody>\n",
       "</table>\n",
       "</div>"
      ],
      "text/plain": [
       "                      0         1         2         3         4         5   \\\n",
       "admiration     -0.004276 -0.002651 -0.006768  0.009835 -0.029603  0.120602   \n",
       "amusement       0.010615 -0.016834  0.301922 -0.028516 -0.017613 -0.013614   \n",
       "anger           0.021347  0.945964 -0.029677  0.016196 -0.016124 -0.006571   \n",
       "annoyance       0.033827  0.730008  0.118023 -0.013482  0.004780 -0.014739   \n",
       "approval       -0.027452 -0.011985  0.004844  0.049112 -0.073165 -0.010218   \n",
       "caring         -0.022101 -0.012249 -0.072006  0.966901 -0.071023 -0.090546   \n",
       "confusion      -0.002120  0.004350  0.001841 -0.016634  0.163111 -0.012042   \n",
       "curiosity      -0.004323 -0.036248 -0.040370 -0.058674  0.983410 -0.044535   \n",
       "desire         -0.011000  0.116006  0.010815  0.010549 -0.033115 -0.017911   \n",
       "disappointment  0.217939  0.076167 -0.002166 -0.008442  0.007712 -0.011506   \n",
       "disapproval    -0.003522  0.038924 -0.010460 -0.005056 -0.001176 -0.004325   \n",
       "disgust         0.029266  0.544745 -0.015123 -0.002649  0.007225  0.001067   \n",
       "embarrassment   0.990161  0.072905  0.057003  0.008843 -0.003187 -0.005474   \n",
       "excitement     -0.022677 -0.024282  0.011773  0.011154  0.007761 -0.021174   \n",
       "fear            0.024367  0.096366  0.985240  0.059900  0.010952 -0.006241   \n",
       "gratitude      -0.014946 -0.028535 -0.027414  0.026486 -0.040081  0.997152   \n",
       "grief           0.010498 -0.009140  0.021583  0.030528 -0.019963  0.004096   \n",
       "joy             0.004290 -0.003786  0.094734  0.028262  0.003352  0.011069   \n",
       "love            0.099657  0.013881  0.220488 -0.019036 -0.001371 -0.010000   \n",
       "nervousness     0.006496  0.003795  0.685464  0.048143 -0.000935 -0.007116   \n",
       "optimism        0.016719 -0.008742  0.004040  0.093338 -0.011637  0.013282   \n",
       "pride           0.000539 -0.003617 -0.005509  0.024159 -0.009192  0.012694   \n",
       "realization    -0.002822 -0.003124  0.005598  0.000712 -0.005200 -0.004802   \n",
       "relief          0.006213  0.001493  0.160770  0.369570 -0.061060  0.108460   \n",
       "remorse         0.943783 -0.028858 -0.015128  0.016959 -0.012364 -0.002752   \n",
       "sadness         0.188313  0.022547  0.107990  0.003656  0.008895 -0.019889   \n",
       "surprise       -0.000602 -0.011606  0.005784 -0.010911 -0.015237 -0.004360   \n",
       "neutral        -0.057703 -0.073349 -0.025449 -0.480579 -0.517473 -0.344763   \n",
       "\n",
       "                      6         7         8         9         10        11  \\\n",
       "admiration     -0.003941  0.001938  0.022254  0.009284  0.031295  0.128530   \n",
       "amusement       0.043236  0.097244  0.003672 -0.001064 -0.003291  0.127243   \n",
       "anger           0.238319  0.047071  0.017686 -0.001729  0.004313 -0.019599   \n",
       "annoyance       0.007084 -0.027586 -0.007343 -0.004768 -0.005065 -0.055635   \n",
       "approval       -0.002256 -0.019227  0.989114 -0.018309 -0.007669 -0.001361   \n",
       "caring         -0.016691  0.078994 -0.070388 -0.019662 -0.044013 -0.147906   \n",
       "confusion      -0.010325 -0.007781 -0.017731 -0.005920 -0.002512 -0.003290   \n",
       "curiosity       0.003626 -0.013021 -0.004770  0.002064 -0.005987 -0.057335   \n",
       "desire          0.989576  0.038162 -0.008842 -0.006861 -0.004871 -0.028405   \n",
       "disappointment -0.028502  0.006878 -0.043062 -0.006906 -0.006087 -0.007968   \n",
       "disapproval     0.016539 -0.000366  0.002597 -0.002080 -0.000475  0.002389   \n",
       "disgust        -0.066956 -0.008346 -0.017784 -0.000653 -0.000851  0.004012   \n",
       "embarrassment  -0.006600  0.005197  0.004168  0.012681  0.010033  0.003785   \n",
       "excitement     -0.006026 -0.021770 -0.044185  0.014513 -0.014100  0.335747   \n",
       "fear           -0.043422  0.048435 -0.027702  0.005770 -0.001449 -0.057570   \n",
       "gratitude      -0.017163 -0.008842 -0.049905 -0.021595 -0.029284 -0.016155   \n",
       "grief           0.023353  0.451467 -0.017584 -0.001570  0.012466 -0.007998   \n",
       "joy            -0.015635  0.137257  0.036055 -0.014548 -0.005536  0.473274   \n",
       "love           -0.008234  0.887814  0.015958  0.003224 -0.012870  0.152905   \n",
       "nervousness    -0.018340  0.035745  0.021022  0.002565 -0.000878  0.024755   \n",
       "optimism        0.017517 -0.033482  0.024294 -0.002282  0.006597  0.076297   \n",
       "pride          -0.003785  0.011050 -0.004977 -0.002599  0.881046  0.014527   \n",
       "realization    -0.008722 -0.002905  0.048291  0.003562  0.002492  0.013934   \n",
       "relief         -0.017143  0.015061  0.074323 -0.001212  0.063925  0.214964   \n",
       "remorse         0.016521  0.096258  0.003889 -0.006586 -0.003365 -0.021148   \n",
       "sadness        -0.013798  0.063153 -0.073586 -0.008276 -0.008137 -0.061636   \n",
       "surprise       -0.006869 -0.001049 -0.014455  0.997642 -0.002868  0.020586   \n",
       "neutral        -0.180991 -0.100609 -0.217860 -0.143667 -0.056457 -0.305502   \n",
       "\n",
       "                      12  \n",
       "admiration     -0.027857  \n",
       "amusement      -0.048536  \n",
       "anger           0.017593  \n",
       "annoyance       0.039528  \n",
       "approval        0.110700  \n",
       "caring         -0.091435  \n",
       "confusion       0.019990  \n",
       "curiosity      -0.168589  \n",
       "desire          0.009555  \n",
       "disappointment  0.244615  \n",
       "disapproval     0.053230  \n",
       "disgust         0.081550  \n",
       "embarrassment   0.107241  \n",
       "excitement      0.106647  \n",
       "fear            0.076354  \n",
       "gratitude      -0.029111  \n",
       "grief           0.054063  \n",
       "joy            -0.102790  \n",
       "love           -0.055768  \n",
       "nervousness     0.083226  \n",
       "optimism        0.068748  \n",
       "pride           0.003319  \n",
       "realization     0.098133  \n",
       "relief         -0.021606  \n",
       "remorse         0.075532  \n",
       "sadness         0.372908  \n",
       "surprise       -0.001379  \n",
       "neutral        -0.466777  "
      ]
     },
     "execution_count": 17,
     "metadata": {},
     "output_type": "execute_result"
    }
   ],
   "source": [
    "pd.DataFrame(fa.loadings_, index=df_scaled.columns)"
   ]
  },
  {
   "cell_type": "code",
   "execution_count": 18,
   "id": "e3953861-4651-4de3-87ef-a6fbd085b924",
   "metadata": {},
   "outputs": [
    {
     "data": {
      "text/html": [
       "<div>\n",
       "<style scoped>\n",
       "    .dataframe tbody tr th:only-of-type {\n",
       "        vertical-align: middle;\n",
       "    }\n",
       "\n",
       "    .dataframe tbody tr th {\n",
       "        vertical-align: top;\n",
       "    }\n",
       "\n",
       "    .dataframe thead th {\n",
       "        text-align: right;\n",
       "    }\n",
       "</style>\n",
       "<table border=\"1\" class=\"dataframe\">\n",
       "  <thead>\n",
       "    <tr style=\"text-align: right;\">\n",
       "      <th></th>\n",
       "      <th>0</th>\n",
       "      <th>1</th>\n",
       "      <th>2</th>\n",
       "      <th>3</th>\n",
       "      <th>4</th>\n",
       "      <th>5</th>\n",
       "      <th>6</th>\n",
       "      <th>7</th>\n",
       "      <th>8</th>\n",
       "      <th>9</th>\n",
       "      <th>10</th>\n",
       "      <th>11</th>\n",
       "      <th>12</th>\n",
       "    </tr>\n",
       "  </thead>\n",
       "  <tbody>\n",
       "    <tr>\n",
       "      <th>0</th>\n",
       "      <td>1.973180</td>\n",
       "      <td>1.770465</td>\n",
       "      <td>1.654566</td>\n",
       "      <td>1.328754</td>\n",
       "      <td>1.281204</td>\n",
       "      <td>1.152422</td>\n",
       "      <td>1.081377</td>\n",
       "      <td>1.060785</td>\n",
       "      <td>1.055875</td>\n",
       "      <td>1.018143</td>\n",
       "      <td>0.788297</td>\n",
       "      <td>0.577057</td>\n",
       "      <td>0.554410</td>\n",
       "    </tr>\n",
       "    <tr>\n",
       "      <th>1</th>\n",
       "      <td>0.070471</td>\n",
       "      <td>0.063231</td>\n",
       "      <td>0.059092</td>\n",
       "      <td>0.047456</td>\n",
       "      <td>0.045757</td>\n",
       "      <td>0.041158</td>\n",
       "      <td>0.038621</td>\n",
       "      <td>0.037885</td>\n",
       "      <td>0.037710</td>\n",
       "      <td>0.036362</td>\n",
       "      <td>0.028153</td>\n",
       "      <td>0.020609</td>\n",
       "      <td>0.019800</td>\n",
       "    </tr>\n",
       "    <tr>\n",
       "      <th>2</th>\n",
       "      <td>0.070471</td>\n",
       "      <td>0.133702</td>\n",
       "      <td>0.192793</td>\n",
       "      <td>0.240249</td>\n",
       "      <td>0.286006</td>\n",
       "      <td>0.327164</td>\n",
       "      <td>0.365785</td>\n",
       "      <td>0.403670</td>\n",
       "      <td>0.441380</td>\n",
       "      <td>0.477742</td>\n",
       "      <td>0.505895</td>\n",
       "      <td>0.526504</td>\n",
       "      <td>0.546305</td>\n",
       "    </tr>\n",
       "  </tbody>\n",
       "</table>\n",
       "</div>"
      ],
      "text/plain": [
       "         0         1         2         3         4         5         6   \\\n",
       "0  1.973180  1.770465  1.654566  1.328754  1.281204  1.152422  1.081377   \n",
       "1  0.070471  0.063231  0.059092  0.047456  0.045757  0.041158  0.038621   \n",
       "2  0.070471  0.133702  0.192793  0.240249  0.286006  0.327164  0.365785   \n",
       "\n",
       "         7         8         9         10        11        12  \n",
       "0  1.060785  1.055875  1.018143  0.788297  0.577057  0.554410  \n",
       "1  0.037885  0.037710  0.036362  0.028153  0.020609  0.019800  \n",
       "2  0.403670  0.441380  0.477742  0.505895  0.526504  0.546305  "
      ]
     },
     "execution_count": 18,
     "metadata": {},
     "output_type": "execute_result"
    }
   ],
   "source": [
    "pd.DataFrame(fa.get_factor_variance())"
   ]
  },
  {
   "cell_type": "markdown",
   "id": "18efbe77-5aed-4de4-ba83-ac338f707511",
   "metadata": {},
   "source": [
    "# V2 dropping Vars with low Signal"
   ]
  },
  {
   "cell_type": "code",
   "execution_count": 19,
   "id": "dd80ba17-eafb-416c-9d6e-b0c8cf5496da",
   "metadata": {},
   "outputs": [],
   "source": [
    "data = pd.read_csv('emotion outputs full v1 enhanced.csv')"
   ]
  },
  {
   "cell_type": "code",
   "execution_count": 20,
   "id": "7aed8a98-6f1b-4e37-b17a-8e1a2c2e87c3",
   "metadata": {},
   "outputs": [
    {
     "data": {
      "text/plain": [
       "neutral           0.601764\n",
       "curiosity         0.096700\n",
       "caring            0.061418\n",
       "gratitude         0.057498\n",
       "approval          0.047043\n",
       "excitement        0.033976\n",
       "desire            0.021562\n",
       "sadness           0.016335\n",
       "optimism          0.014374\n",
       "surprise          0.010127\n",
       "joy               0.008821\n",
       "disappointment    0.005880\n",
       "realization       0.005554\n",
       "grief             0.005227\n",
       "confusion         0.004247\n",
       "pride             0.002614\n",
       "fear              0.002614\n",
       "disgust           0.002287\n",
       "disapproval       0.001633\n",
       "admiration        0.000327\n",
       "Name: top_label, dtype: float64"
      ]
     },
     "execution_count": 20,
     "metadata": {},
     "output_type": "execute_result"
    }
   ],
   "source": [
    "data.top_label.value_counts(normalize=True)"
   ]
  },
  {
   "cell_type": "code",
   "execution_count": null,
   "id": "856f7f13-6f67-45fd-aeb4-d17701fa2e8a",
   "metadata": {},
   "outputs": [],
   "source": []
  },
  {
   "cell_type": "code",
   "execution_count": null,
   "id": "2acf524c-a963-4ab7-b389-7e1d91c3d0a2",
   "metadata": {},
   "outputs": [],
   "source": []
  },
  {
   "cell_type": "code",
   "execution_count": 21,
   "id": "4ee67ef7-5827-449b-a7cd-0391e7d3345e",
   "metadata": {},
   "outputs": [],
   "source": [
    "df = data.drop(columns=['top_value','top_label'])"
   ]
  },
  {
   "cell_type": "code",
   "execution_count": 22,
   "id": "23eaa67f-11df-4df8-9926-20923ecb472e",
   "metadata": {},
   "outputs": [
    {
     "data": {
      "text/plain": [
       "admiration          14.419048\n",
       "amusement            1.612284\n",
       "anger                2.977345\n",
       "annoyance            5.275048\n",
       "approval           163.070967\n",
       "caring             189.857067\n",
       "confusion           26.543524\n",
       "curiosity          304.181047\n",
       "desire              58.080412\n",
       "disappointment      24.692105\n",
       "disapproval          9.329376\n",
       "disgust              7.011566\n",
       "embarrassment        0.385355\n",
       "excitement          87.240191\n",
       "fear                 6.879937\n",
       "gratitude          158.090282\n",
       "grief               10.352260\n",
       "joy                 22.817534\n",
       "love                 2.761325\n",
       "nervousness          5.936310\n",
       "optimism            50.160584\n",
       "pride                8.415460\n",
       "realization         27.233820\n",
       "relief               1.139360\n",
       "remorse              2.934910\n",
       "sadness             63.334995\n",
       "surprise            31.544931\n",
       "neutral           1774.722950\n",
       "dtype: float64"
      ]
     },
     "execution_count": 22,
     "metadata": {},
     "output_type": "execute_result"
    }
   ],
   "source": [
    "df.sum()"
   ]
  },
  {
   "cell_type": "code",
   "execution_count": 23,
   "id": "e1aaa2c2-eb3f-4f42-a177-04e131ababf6",
   "metadata": {},
   "outputs": [
    {
     "data": {
      "text/html": [
       "<div>\n",
       "<style scoped>\n",
       "    .dataframe tbody tr th:only-of-type {\n",
       "        vertical-align: middle;\n",
       "    }\n",
       "\n",
       "    .dataframe tbody tr th {\n",
       "        vertical-align: top;\n",
       "    }\n",
       "\n",
       "    .dataframe thead th {\n",
       "        text-align: right;\n",
       "    }\n",
       "</style>\n",
       "<table border=\"1\" class=\"dataframe\">\n",
       "  <thead>\n",
       "    <tr style=\"text-align: right;\">\n",
       "      <th></th>\n",
       "      <th>value</th>\n",
       "    </tr>\n",
       "  </thead>\n",
       "  <tbody>\n",
       "    <tr>\n",
       "      <th>neutral</th>\n",
       "      <td>0.579785</td>\n",
       "    </tr>\n",
       "    <tr>\n",
       "      <th>curiosity</th>\n",
       "      <td>0.099373</td>\n",
       "    </tr>\n",
       "    <tr>\n",
       "      <th>caring</th>\n",
       "      <td>0.062025</td>\n",
       "    </tr>\n",
       "    <tr>\n",
       "      <th>approval</th>\n",
       "      <td>0.053274</td>\n",
       "    </tr>\n",
       "    <tr>\n",
       "      <th>gratitude</th>\n",
       "      <td>0.051647</td>\n",
       "    </tr>\n",
       "    <tr>\n",
       "      <th>excitement</th>\n",
       "      <td>0.028501</td>\n",
       "    </tr>\n",
       "    <tr>\n",
       "      <th>sadness</th>\n",
       "      <td>0.020691</td>\n",
       "    </tr>\n",
       "    <tr>\n",
       "      <th>desire</th>\n",
       "      <td>0.018974</td>\n",
       "    </tr>\n",
       "    <tr>\n",
       "      <th>optimism</th>\n",
       "      <td>0.016387</td>\n",
       "    </tr>\n",
       "    <tr>\n",
       "      <th>surprise</th>\n",
       "      <td>0.010305</td>\n",
       "    </tr>\n",
       "    <tr>\n",
       "      <th>realization</th>\n",
       "      <td>0.008897</td>\n",
       "    </tr>\n",
       "    <tr>\n",
       "      <th>confusion</th>\n",
       "      <td>0.008672</td>\n",
       "    </tr>\n",
       "    <tr>\n",
       "      <th>disappointment</th>\n",
       "      <td>0.008067</td>\n",
       "    </tr>\n",
       "    <tr>\n",
       "      <th>joy</th>\n",
       "      <td>0.007454</td>\n",
       "    </tr>\n",
       "    <tr>\n",
       "      <th>admiration</th>\n",
       "      <td>0.004711</td>\n",
       "    </tr>\n",
       "    <tr>\n",
       "      <th>grief</th>\n",
       "      <td>0.003382</td>\n",
       "    </tr>\n",
       "    <tr>\n",
       "      <th>disapproval</th>\n",
       "      <td>0.003048</td>\n",
       "    </tr>\n",
       "    <tr>\n",
       "      <th>pride</th>\n",
       "      <td>0.002749</td>\n",
       "    </tr>\n",
       "    <tr>\n",
       "      <th>disgust</th>\n",
       "      <td>0.002291</td>\n",
       "    </tr>\n",
       "    <tr>\n",
       "      <th>fear</th>\n",
       "      <td>0.002248</td>\n",
       "    </tr>\n",
       "    <tr>\n",
       "      <th>nervousness</th>\n",
       "      <td>0.001939</td>\n",
       "    </tr>\n",
       "    <tr>\n",
       "      <th>annoyance</th>\n",
       "      <td>0.001723</td>\n",
       "    </tr>\n",
       "    <tr>\n",
       "      <th>anger</th>\n",
       "      <td>0.000973</td>\n",
       "    </tr>\n",
       "    <tr>\n",
       "      <th>remorse</th>\n",
       "      <td>0.000959</td>\n",
       "    </tr>\n",
       "    <tr>\n",
       "      <th>love</th>\n",
       "      <td>0.000902</td>\n",
       "    </tr>\n",
       "    <tr>\n",
       "      <th>amusement</th>\n",
       "      <td>0.000527</td>\n",
       "    </tr>\n",
       "    <tr>\n",
       "      <th>relief</th>\n",
       "      <td>0.000372</td>\n",
       "    </tr>\n",
       "    <tr>\n",
       "      <th>embarrassment</th>\n",
       "      <td>0.000126</td>\n",
       "    </tr>\n",
       "  </tbody>\n",
       "</table>\n",
       "</div>"
      ],
      "text/plain": [
       "                   value\n",
       "neutral         0.579785\n",
       "curiosity       0.099373\n",
       "caring          0.062025\n",
       "approval        0.053274\n",
       "gratitude       0.051647\n",
       "excitement      0.028501\n",
       "sadness         0.020691\n",
       "desire          0.018974\n",
       "optimism        0.016387\n",
       "surprise        0.010305\n",
       "realization     0.008897\n",
       "confusion       0.008672\n",
       "disappointment  0.008067\n",
       "joy             0.007454\n",
       "admiration      0.004711\n",
       "grief           0.003382\n",
       "disapproval     0.003048\n",
       "pride           0.002749\n",
       "disgust         0.002291\n",
       "fear            0.002248\n",
       "nervousness     0.001939\n",
       "annoyance       0.001723\n",
       "anger           0.000973\n",
       "remorse         0.000959\n",
       "love            0.000902\n",
       "amusement       0.000527\n",
       "relief          0.000372\n",
       "embarrassment   0.000126"
      ]
     },
     "execution_count": 23,
     "metadata": {},
     "output_type": "execute_result"
    }
   ],
   "source": [
    "cols_to_drop = pd.DataFrame(df.mean(), columns=['value'])\n",
    "cols_to_drop.sort_values('value', ascending=False)"
   ]
  },
  {
   "cell_type": "code",
   "execution_count": 24,
   "id": "f388244a-a969-42c6-8160-d654aad4e6f5",
   "metadata": {},
   "outputs": [
    {
     "data": {
      "text/plain": [
       "(14, 1)"
      ]
     },
     "execution_count": 24,
     "metadata": {},
     "output_type": "execute_result"
    }
   ],
   "source": [
    "cols_to_drop = cols_to_drop[cols_to_drop.value > .005]\n",
    "cols_to_drop.shape"
   ]
  },
  {
   "cell_type": "code",
   "execution_count": null,
   "id": "ee183306-128e-4a39-b147-b049dd5de624",
   "metadata": {},
   "outputs": [],
   "source": []
  },
  {
   "cell_type": "code",
   "execution_count": 25,
   "id": "1b693145-c27a-41ed-b2cf-068f6343232b",
   "metadata": {},
   "outputs": [
    {
     "data": {
      "text/plain": [
       "['approval',\n",
       " 'caring',\n",
       " 'confusion',\n",
       " 'curiosity',\n",
       " 'desire',\n",
       " 'disappointment',\n",
       " 'excitement',\n",
       " 'gratitude',\n",
       " 'joy',\n",
       " 'optimism',\n",
       " 'realization',\n",
       " 'sadness',\n",
       " 'surprise',\n",
       " 'neutral']"
      ]
     },
     "execution_count": 25,
     "metadata": {},
     "output_type": "execute_result"
    }
   ],
   "source": [
    "list(cols_to_drop.index)"
   ]
  },
  {
   "cell_type": "code",
   "execution_count": 26,
   "id": "6ee4a4e3-2bbf-4814-9f7e-3aca95cdefef",
   "metadata": {},
   "outputs": [
    {
     "data": {
      "text/plain": [
       "(3061, 14)"
      ]
     },
     "execution_count": 26,
     "metadata": {},
     "output_type": "execute_result"
    }
   ],
   "source": [
    "df = df[list(cols_to_drop.index)]\n",
    "df.shape"
   ]
  },
  {
   "cell_type": "code",
   "execution_count": null,
   "id": "06cbcacd-7c21-4efe-a40d-35cfab1f5e46",
   "metadata": {},
   "outputs": [],
   "source": []
  },
  {
   "cell_type": "markdown",
   "id": "6844960b-953c-4a12-bc97-87f8e7a2edc5",
   "metadata": {},
   "source": [
    "## Scaling "
   ]
  },
  {
   "cell_type": "raw",
   "id": "be89930a-a807-4d4f-a077-1de6486f1108",
   "metadata": {},
   "source": [
    "let's scale and clean up the data as step one"
   ]
  },
  {
   "cell_type": "raw",
   "id": "4529475d-f71a-42b1-8b19-4acdfc924cf8",
   "metadata": {},
   "source": [
    "also noticing a lot of vars have almost no signal, maybe want to drop them?"
   ]
  },
  {
   "cell_type": "code",
   "execution_count": 27,
   "id": "66e14b5a-46d7-45ff-bc98-9a2af50aa5ea",
   "metadata": {},
   "outputs": [],
   "source": [
    "scaler = StandardScaler()\n",
    "df_scaled = pd.DataFrame(scaler.fit_transform(df))"
   ]
  },
  {
   "cell_type": "code",
   "execution_count": 28,
   "id": "d773ec47-884f-4a3b-8880-28a1e7c97002",
   "metadata": {},
   "outputs": [],
   "source": [
    "df_scaled.columns = df.columns"
   ]
  },
  {
   "cell_type": "code",
   "execution_count": null,
   "id": "144d60c0-538d-4f40-aa05-4aee756b296c",
   "metadata": {},
   "outputs": [],
   "source": []
  },
  {
   "cell_type": "markdown",
   "id": "3b719cc8-6938-469c-8371-e6f66c0d20c2",
   "metadata": {},
   "source": [
    "## diagnostics to determine if FA is approrpriate"
   ]
  },
  {
   "cell_type": "raw",
   "id": "5b183f72-3c10-42f2-9c3d-2b669e626ac4",
   "metadata": {},
   "source": [
    "Bartlett’s test of sphericity checks whether or not the observed variables intercorrelate at all using the observed correlation matrix against the identity matrix. If the test found statistically insignificant, we should not employ a factor analysis."
   ]
  },
  {
   "cell_type": "code",
   "execution_count": 29,
   "id": "7387ee9d-4fb0-46b5-8206-fc8f57af30af",
   "metadata": {},
   "outputs": [
    {
     "data": {
      "text/plain": [
       "(9442.900134170228, 0.0)"
      ]
     },
     "execution_count": 29,
     "metadata": {},
     "output_type": "execute_result"
    }
   ],
   "source": [
    "chi_square_value,p_value=calculate_bartlett_sphericity(df_scaled)\n",
    "chi_square_value, p_value"
   ]
  },
  {
   "cell_type": "code",
   "execution_count": 30,
   "id": "af63e1c6-fb35-4144-9720-5042d115709b",
   "metadata": {},
   "outputs": [
    {
     "data": {
      "text/plain": [
       "0.02484683398792999"
      ]
     },
     "execution_count": 30,
     "metadata": {},
     "output_type": "execute_result"
    }
   ],
   "source": [
    "kmo_all,kmo_model=calculate_kmo(df_scaled)\n",
    "kmo_model"
   ]
  },
  {
   "cell_type": "code",
   "execution_count": null,
   "id": "2c62e2ce-a6e0-4194-a441-bb363fb0a406",
   "metadata": {},
   "outputs": [],
   "source": []
  },
  {
   "cell_type": "markdown",
   "id": "1a780615-7fed-4324-9aca-b8e020611369",
   "metadata": {},
   "source": [
    "## Determining Number of factors "
   ]
  },
  {
   "cell_type": "code",
   "execution_count": 31,
   "id": "1d88cac6-c3ca-4910-8d25-5bdc00760b97",
   "metadata": {},
   "outputs": [
    {
     "data": {
      "text/plain": [
       "array([1.65096148, 1.2562952 , 1.18802758, 1.16583215, 1.0863133 ,\n",
       "       1.05934862, 1.01666984, 1.0007218 , 0.99015619, 0.95267428,\n",
       "       0.88822079, 0.86714564, 0.85590995, 0.02172317])"
      ]
     },
     "execution_count": 31,
     "metadata": {},
     "output_type": "execute_result"
    }
   ],
   "source": [
    "fa = FactorAnalyzer(rotation=None)\n",
    "fa.fit(df_scaled)\n",
    "# Check Eigenvalues\n",
    "ev, v = fa.get_eigenvalues()\n",
    "ev"
   ]
  },
  {
   "cell_type": "code",
   "execution_count": 32,
   "id": "74ae55e1-1691-419c-9628-be21bfc7c652",
   "metadata": {},
   "outputs": [
    {
     "data": {
      "image/png": "[encoded data removed]",
      "text/plain": [
       "<Figure size 1000x600 with 1 Axes>"
      ]
     },
     "metadata": {},
     "output_type": "display_data"
    }
   ],
   "source": [
    "plt.scatter(range(1,df.shape[1]+1),ev)\n",
    "plt.plot(range(1,df.shape[1]+1),ev)\n",
    "plt.title('Scree Plot')\n",
    "plt.xlabel('Factors')\n",
    "plt.ylabel('Eigenvalue')\n",
    "plt.axhline(y=1,c='k')\n",
    "\n",
    "plt.show()"
   ]
  },
  {
   "cell_type": "markdown",
   "id": "5a5e9e25-57db-4243-99d7-79076feb95dd",
   "metadata": {},
   "source": [
    "## running analysis "
   ]
  },
  {
   "cell_type": "code",
   "execution_count": 33,
   "id": "ccd1d55e-4013-4ad6-ad73-0da83d5f4a36",
   "metadata": {},
   "outputs": [
    {
     "data": {
      "text/plain": [
       "FactorAnalyzer(n_factors=8, rotation='varimax', rotation_kwargs={})"
      ]
     },
     "execution_count": 33,
     "metadata": {},
     "output_type": "execute_result"
    }
   ],
   "source": [
    "fa = FactorAnalyzer(rotation=\"varimax\", n_factors=8)\n",
    "fa.fit(df_scaled)\n",
    "fa\n",
    "#pd.DataFrame(fa.loadings_)"
   ]
  },
  {
   "cell_type": "code",
   "execution_count": 34,
   "id": "0f434f69-e677-48bf-97c7-3131e3705f75",
   "metadata": {},
   "outputs": [
    {
     "data": {
      "text/plain": [
       "(3061, 8)"
      ]
     },
     "execution_count": 34,
     "metadata": {},
     "output_type": "execute_result"
    }
   ],
   "source": [
    "scores = fa.transform(df_scaled)\n",
    "scores.shape"
   ]
  },
  {
   "cell_type": "code",
   "execution_count": 35,
   "id": "ae9960d2-8e18-4e16-8ff7-829d2c956b7c",
   "metadata": {},
   "outputs": [
    {
     "data": {
      "text/html": [
       "<div>\n",
       "<style scoped>\n",
       "    .dataframe tbody tr th:only-of-type {\n",
       "        vertical-align: middle;\n",
       "    }\n",
       "\n",
       "    .dataframe tbody tr th {\n",
       "        vertical-align: top;\n",
       "    }\n",
       "\n",
       "    .dataframe thead th {\n",
       "        text-align: right;\n",
       "    }\n",
       "</style>\n",
       "<table border=\"1\" class=\"dataframe\">\n",
       "  <thead>\n",
       "    <tr style=\"text-align: right;\">\n",
       "      <th></th>\n",
       "      <th>0</th>\n",
       "      <th>1</th>\n",
       "      <th>2</th>\n",
       "      <th>3</th>\n",
       "      <th>4</th>\n",
       "      <th>5</th>\n",
       "      <th>6</th>\n",
       "      <th>7</th>\n",
       "    </tr>\n",
       "  </thead>\n",
       "  <tbody>\n",
       "    <tr>\n",
       "      <th>approval</th>\n",
       "      <td>-0.069643</td>\n",
       "      <td>-0.007246</td>\n",
       "      <td>-0.030354</td>\n",
       "      <td>0.993581</td>\n",
       "      <td>0.001024</td>\n",
       "      <td>-0.004710</td>\n",
       "      <td>-0.012473</td>\n",
       "      <td>-0.077490</td>\n",
       "    </tr>\n",
       "    <tr>\n",
       "      <th>caring</th>\n",
       "      <td>-0.076359</td>\n",
       "      <td>0.995585</td>\n",
       "      <td>-0.029133</td>\n",
       "      <td>-0.028929</td>\n",
       "      <td>-0.005230</td>\n",
       "      <td>0.000956</td>\n",
       "      <td>-0.054985</td>\n",
       "      <td>-0.049749</td>\n",
       "    </tr>\n",
       "    <tr>\n",
       "      <th>confusion</th>\n",
       "      <td>0.160747</td>\n",
       "      <td>-0.008422</td>\n",
       "      <td>-0.005493</td>\n",
       "      <td>-0.012860</td>\n",
       "      <td>-0.008391</td>\n",
       "      <td>-0.001017</td>\n",
       "      <td>0.005351</td>\n",
       "      <td>0.016478</td>\n",
       "    </tr>\n",
       "    <tr>\n",
       "      <th>curiosity</th>\n",
       "      <td>0.990308</td>\n",
       "      <td>-0.036051</td>\n",
       "      <td>-0.034369</td>\n",
       "      <td>-0.044173</td>\n",
       "      <td>-0.002914</td>\n",
       "      <td>-0.033199</td>\n",
       "      <td>-0.021606</td>\n",
       "      <td>-0.119143</td>\n",
       "    </tr>\n",
       "    <tr>\n",
       "      <th>desire</th>\n",
       "      <td>-0.036520</td>\n",
       "      <td>0.003083</td>\n",
       "      <td>-0.016075</td>\n",
       "      <td>-0.014191</td>\n",
       "      <td>0.997361</td>\n",
       "      <td>0.001544</td>\n",
       "      <td>-0.030412</td>\n",
       "      <td>-0.018046</td>\n",
       "    </tr>\n",
       "    <tr>\n",
       "      <th>disappointment</th>\n",
       "      <td>-0.000620</td>\n",
       "      <td>-0.010481</td>\n",
       "      <td>-0.006138</td>\n",
       "      <td>0.001515</td>\n",
       "      <td>-0.003999</td>\n",
       "      <td>-0.004083</td>\n",
       "      <td>-0.001926</td>\n",
       "      <td>0.312617</td>\n",
       "    </tr>\n",
       "    <tr>\n",
       "      <th>excitement</th>\n",
       "      <td>-0.054511</td>\n",
       "      <td>-0.024960</td>\n",
       "      <td>-0.042105</td>\n",
       "      <td>-0.043527</td>\n",
       "      <td>-0.011801</td>\n",
       "      <td>-0.010350</td>\n",
       "      <td>0.646996</td>\n",
       "      <td>-0.044844</td>\n",
       "    </tr>\n",
       "    <tr>\n",
       "      <th>gratitude</th>\n",
       "      <td>-0.057310</td>\n",
       "      <td>-0.026800</td>\n",
       "      <td>0.997570</td>\n",
       "      <td>-0.035824</td>\n",
       "      <td>-0.023325</td>\n",
       "      <td>-0.014244</td>\n",
       "      <td>-0.003521</td>\n",
       "      <td>-0.049008</td>\n",
       "    </tr>\n",
       "    <tr>\n",
       "      <th>joy</th>\n",
       "      <td>0.006228</td>\n",
       "      <td>-0.005657</td>\n",
       "      <td>0.014080</td>\n",
       "      <td>0.037421</td>\n",
       "      <td>-0.007493</td>\n",
       "      <td>-0.011136</td>\n",
       "      <td>0.225429</td>\n",
       "      <td>-0.001551</td>\n",
       "    </tr>\n",
       "    <tr>\n",
       "      <th>optimism</th>\n",
       "      <td>-0.024487</td>\n",
       "      <td>0.008449</td>\n",
       "      <td>-0.007581</td>\n",
       "      <td>0.011490</td>\n",
       "      <td>0.002037</td>\n",
       "      <td>0.997228</td>\n",
       "      <td>-0.032950</td>\n",
       "      <td>-0.019569</td>\n",
       "    </tr>\n",
       "    <tr>\n",
       "      <th>realization</th>\n",
       "      <td>-0.008285</td>\n",
       "      <td>-0.003643</td>\n",
       "      <td>0.000176</td>\n",
       "      <td>0.067310</td>\n",
       "      <td>-0.005248</td>\n",
       "      <td>0.004452</td>\n",
       "      <td>0.022049</td>\n",
       "      <td>0.064160</td>\n",
       "    </tr>\n",
       "    <tr>\n",
       "      <th>sadness</th>\n",
       "      <td>-0.006742</td>\n",
       "      <td>-0.000487</td>\n",
       "      <td>-0.014460</td>\n",
       "      <td>-0.004288</td>\n",
       "      <td>0.000649</td>\n",
       "      <td>-0.015089</td>\n",
       "      <td>-0.020307</td>\n",
       "      <td>0.492739</td>\n",
       "    </tr>\n",
       "    <tr>\n",
       "      <th>surprise</th>\n",
       "      <td>0.027507</td>\n",
       "      <td>0.002795</td>\n",
       "      <td>0.004397</td>\n",
       "      <td>-0.002696</td>\n",
       "      <td>0.002463</td>\n",
       "      <td>0.005957</td>\n",
       "      <td>0.083017</td>\n",
       "      <td>0.071138</td>\n",
       "    </tr>\n",
       "    <tr>\n",
       "      <th>neutral</th>\n",
       "      <td>-0.479931</td>\n",
       "      <td>-0.397499</td>\n",
       "      <td>-0.377799</td>\n",
       "      <td>-0.331889</td>\n",
       "      <td>-0.213628</td>\n",
       "      <td>-0.172926</td>\n",
       "      <td>-0.422686</td>\n",
       "      <td>-0.380837</td>\n",
       "    </tr>\n",
       "  </tbody>\n",
       "</table>\n",
       "</div>"
      ],
      "text/plain": [
       "                       0         1         2         3         4         5  \\\n",
       "approval       -0.069643 -0.007246 -0.030354  0.993581  0.001024 -0.004710   \n",
       "caring         -0.076359  0.995585 -0.029133 -0.028929 -0.005230  0.000956   \n",
       "confusion       0.160747 -0.008422 -0.005493 -0.012860 -0.008391 -0.001017   \n",
       "curiosity       0.990308 -0.036051 -0.034369 -0.044173 -0.002914 -0.033199   \n",
       "desire         -0.036520  0.003083 -0.016075 -0.014191  0.997361  0.001544   \n",
       "disappointment -0.000620 -0.010481 -0.006138  0.001515 -0.003999 -0.004083   \n",
       "excitement     -0.054511 -0.024960 -0.042105 -0.043527 -0.011801 -0.010350   \n",
       "gratitude      -0.057310 -0.026800  0.997570 -0.035824 -0.023325 -0.014244   \n",
       "joy             0.006228 -0.005657  0.014080  0.037421 -0.007493 -0.011136   \n",
       "optimism       -0.024487  0.008449 -0.007581  0.011490  0.002037  0.997228   \n",
       "realization    -0.008285 -0.003643  0.000176  0.067310 -0.005248  0.004452   \n",
       "sadness        -0.006742 -0.000487 -0.014460 -0.004288  0.000649 -0.015089   \n",
       "surprise        0.027507  0.002795  0.004397 -0.002696  0.002463  0.005957   \n",
       "neutral        -0.479931 -0.397499 -0.377799 -0.331889 -0.213628 -0.172926   \n",
       "\n",
       "                       6         7  \n",
       "approval       -0.012473 -0.077490  \n",
       "caring         -0.054985 -0.049749  \n",
       "confusion       0.005351  0.016478  \n",
       "curiosity      -0.021606 -0.119143  \n",
       "desire         -0.030412 -0.018046  \n",
       "disappointment -0.001926  0.312617  \n",
       "excitement      0.646996 -0.044844  \n",
       "gratitude      -0.003521 -0.049008  \n",
       "joy             0.225429 -0.001551  \n",
       "optimism       -0.032950 -0.019569  \n",
       "realization     0.022049  0.064160  \n",
       "sadness        -0.020307  0.492739  \n",
       "surprise        0.083017  0.071138  \n",
       "neutral        -0.422686 -0.380837  "
      ]
     },
     "execution_count": 35,
     "metadata": {},
     "output_type": "execute_result"
    }
   ],
   "source": [
    "pd.DataFrame(fa.loadings_, index=df_scaled.columns)"
   ]
  },
  {
   "cell_type": "code",
   "execution_count": 36,
   "id": "8f5fd2ed-77bd-4bf2-97db-cb7e3438fb14",
   "metadata": {},
   "outputs": [
    {
     "data": {
      "text/html": [
       "<div>\n",
       "<style scoped>\n",
       "    .dataframe tbody tr th:only-of-type {\n",
       "        vertical-align: middle;\n",
       "    }\n",
       "\n",
       "    .dataframe tbody tr th {\n",
       "        vertical-align: top;\n",
       "    }\n",
       "\n",
       "    .dataframe thead th {\n",
       "        text-align: right;\n",
       "    }\n",
       "</style>\n",
       "<table border=\"1\" class=\"dataframe\">\n",
       "  <thead>\n",
       "    <tr style=\"text-align: right;\">\n",
       "      <th></th>\n",
       "      <th>0</th>\n",
       "      <th>1</th>\n",
       "      <th>2</th>\n",
       "      <th>3</th>\n",
       "      <th>4</th>\n",
       "      <th>5</th>\n",
       "      <th>6</th>\n",
       "      <th>7</th>\n",
       "    </tr>\n",
       "  </thead>\n",
       "  <tbody>\n",
       "    <tr>\n",
       "      <th>0</th>\n",
       "      <td>1.256663</td>\n",
       "      <td>1.152203</td>\n",
       "      <td>1.143413</td>\n",
       "      <td>1.109777</td>\n",
       "      <td>1.041267</td>\n",
       "      <td>1.026229</td>\n",
       "      <td>0.661577</td>\n",
       "      <td>0.522805</td>\n",
       "    </tr>\n",
       "    <tr>\n",
       "      <th>1</th>\n",
       "      <td>0.089762</td>\n",
       "      <td>0.082300</td>\n",
       "      <td>0.081672</td>\n",
       "      <td>0.079270</td>\n",
       "      <td>0.074376</td>\n",
       "      <td>0.073302</td>\n",
       "      <td>0.047255</td>\n",
       "      <td>0.037343</td>\n",
       "    </tr>\n",
       "    <tr>\n",
       "      <th>2</th>\n",
       "      <td>0.089762</td>\n",
       "      <td>0.172062</td>\n",
       "      <td>0.253734</td>\n",
       "      <td>0.333004</td>\n",
       "      <td>0.407380</td>\n",
       "      <td>0.480682</td>\n",
       "      <td>0.527938</td>\n",
       "      <td>0.565281</td>\n",
       "    </tr>\n",
       "  </tbody>\n",
       "</table>\n",
       "</div>"
      ],
      "text/plain": [
       "          0         1         2         3         4         5         6  \\\n",
       "0  1.256663  1.152203  1.143413  1.109777  1.041267  1.026229  0.661577   \n",
       "1  0.089762  0.082300  0.081672  0.079270  0.074376  0.073302  0.047255   \n",
       "2  0.089762  0.172062  0.253734  0.333004  0.407380  0.480682  0.527938   \n",
       "\n",
       "          7  \n",
       "0  0.522805  \n",
       "1  0.037343  \n",
       "2  0.565281  "
      ]
     },
     "execution_count": 36,
     "metadata": {},
     "output_type": "execute_result"
    }
   ],
   "source": [
    "pd.DataFrame(fa.get_factor_variance())"
   ]
  },
  {
   "cell_type": "code",
   "execution_count": 37,
   "id": "7c422949-688b-4cf1-9026-ba41e06c2a6f",
   "metadata": {},
   "outputs": [],
   "source": [
    "factor_outputs = pd.DataFrame(fa.transform(df_scaled))"
   ]
  },
  {
   "cell_type": "code",
   "execution_count": 39,
   "id": "d6cecfd0-0400-49b1-978f-a419871b1f07",
   "metadata": {},
   "outputs": [],
   "source": [
    "factor_outputs.to_csv('factor outputs k=7.csv', index=False)"
   ]
  },
  {
   "cell_type": "code",
   "execution_count": 40,
   "id": "079cd9db-dd31-45e0-a35f-a20e7f28ab52",
   "metadata": {},
   "outputs": [],
   "source": [
    "pd.DataFrame(fa.loadings_, index=df_scaled.columns).to_csv('factor scores k=7.csv',index=False)"
   ]
  },
  {
   "cell_type": "code",
   "execution_count": 41,
   "id": "7ab11b55-2ed6-4e5b-a916-f106cf3fc4b5",
   "metadata": {},
   "outputs": [],
   "source": [
    "pd.DataFrame(list(df_scaled.columns)).to_csv('emotion_cols.csv',index=False) # these are the 14 inputs to the factor analysis"
   ]
  },
  {
   "cell_type": "code",
   "execution_count": 38,
   "id": "bbd77628-2d68-43c8-9a51-fe0ec476d460",
   "metadata": {},
   "outputs": [
    {
     "ename": "SyntaxError",
     "evalue": "invalid syntax (898764352.py, line 1)",
     "output_type": "error",
     "traceback": [
      "\u001b[0;36m  File \u001b[0;32m\"/var/folders/0n/jtvl1jfx6hj3j5xbd39_bfp40000gp/T/ipykernel_23960/898764352.py\"\u001b[0;36m, line \u001b[0;32m1\u001b[0m\n\u001b[0;31m    all you base are belong to us\u001b[0m\n\u001b[0m        ^\u001b[0m\n\u001b[0;31mSyntaxError\u001b[0m\u001b[0;31m:\u001b[0m invalid syntax\n"
     ]
    }
   ],
   "source": [
    "all you base are belong to us"
   ]
  },
  {
   "cell_type": "markdown",
   "id": "96cc8f18-49fd-4ae8-97c5-d999310ff106",
   "metadata": {},
   "source": [
    "# V3 let's remove neutral and see what we get"
   ]
  },
  {
   "cell_type": "code",
   "execution_count": null,
   "id": "8751596d-e585-42d1-a04d-51e0a2450da2",
   "metadata": {},
   "outputs": [],
   "source": [
    "df = df.drop(columns='neutral')"
   ]
  },
  {
   "cell_type": "markdown",
   "id": "8d82640c-54e3-479c-a071-3ae6b9a7e9a2",
   "metadata": {},
   "source": [
    "## Scaling "
   ]
  },
  {
   "cell_type": "raw",
   "id": "7bb86551-75d6-449c-8709-447ab49e3f66",
   "metadata": {},
   "source": [
    "let's scale and clean up the data as step one"
   ]
  },
  {
   "cell_type": "raw",
   "id": "4c11549f-3ddf-470c-bb06-77936c77bb03",
   "metadata": {},
   "source": [
    "also noticing a lot of vars have almost no signal, maybe want to drop them?"
   ]
  },
  {
   "cell_type": "code",
   "execution_count": null,
   "id": "b9f15971-867b-4ed4-bfba-cb65146723a1",
   "metadata": {},
   "outputs": [],
   "source": [
    "scaler = StandardScaler()\n",
    "df_scaled = pd.DataFrame(scaler.fit_transform(df))"
   ]
  },
  {
   "cell_type": "code",
   "execution_count": null,
   "id": "42e08bf6-32cd-4073-90e0-ae56d08d1ddb",
   "metadata": {},
   "outputs": [],
   "source": [
    "df_scaled.columns = df.columns"
   ]
  },
  {
   "cell_type": "code",
   "execution_count": null,
   "id": "4b73eb79-bd45-4eb0-9a78-4db3d5313ef2",
   "metadata": {},
   "outputs": [],
   "source": []
  },
  {
   "cell_type": "markdown",
   "id": "2817d3c6-de63-49b5-b66c-543005a7583c",
   "metadata": {},
   "source": [
    "## diagnostics to determine if FA is approrpriate"
   ]
  },
  {
   "cell_type": "raw",
   "id": "28680ef5-c36c-48e6-bf12-b905d72be480",
   "metadata": {},
   "source": [
    "Bartlett’s test of sphericity checks whether or not the observed variables intercorrelate at all using the observed correlation matrix against the identity matrix. If the test found statistically insignificant, we should not employ a factor analysis."
   ]
  },
  {
   "cell_type": "code",
   "execution_count": null,
   "id": "4bfa550b-d9ab-4170-96e4-7cab41931dda",
   "metadata": {},
   "outputs": [],
   "source": [
    "chi_square_value,p_value=calculate_bartlett_sphericity(df_scaled)\n",
    "chi_square_value, p_value"
   ]
  },
  {
   "cell_type": "code",
   "execution_count": null,
   "id": "db8c0ff5-21fe-4c89-b95d-e663563e8318",
   "metadata": {},
   "outputs": [],
   "source": [
    "kmo_all,kmo_model=calculate_kmo(df_scaled)\n",
    "kmo_model"
   ]
  },
  {
   "cell_type": "code",
   "execution_count": null,
   "id": "6f48c43d-b1bb-4ca7-9b4e-6a8db90d7393",
   "metadata": {},
   "outputs": [],
   "source": []
  },
  {
   "cell_type": "markdown",
   "id": "3438deb1-3a82-4805-b9eb-4a1fecf3f326",
   "metadata": {},
   "source": [
    "## Determining Number of factors "
   ]
  },
  {
   "cell_type": "code",
   "execution_count": null,
   "id": "b5619a30-c2b8-4745-be7b-5559b1fd5669",
   "metadata": {},
   "outputs": [],
   "source": [
    "fa = FactorAnalyzer(rotation=None)\n",
    "fa.fit(df_scaled)\n",
    "# Check Eigenvalues\n",
    "ev, v = fa.get_eigenvalues()\n",
    "ev"
   ]
  },
  {
   "cell_type": "code",
   "execution_count": null,
   "id": "d5429fb4-e3fd-4a6b-bdb1-f1dcc52486be",
   "metadata": {},
   "outputs": [],
   "source": [
    "plt.scatter(range(1,df.shape[1]+1),ev)\n",
    "plt.plot(range(1,df.shape[1]+1),ev)\n",
    "plt.title('Scree Plot')\n",
    "plt.xlabel('Factors')\n",
    "plt.ylabel('Eigenvalue')\n",
    "plt.axhline(y=1,c='k')\n",
    "\n",
    "plt.show()"
   ]
  },
  {
   "cell_type": "markdown",
   "id": "3fe75744-5514-48a9-aaf8-047031bff1ac",
   "metadata": {},
   "source": [
    "## running analysis "
   ]
  },
  {
   "cell_type": "code",
   "execution_count": null,
   "id": "e5ed412b-e247-4d99-9ba1-d36666cd54b4",
   "metadata": {},
   "outputs": [],
   "source": [
    "fa = FactorAnalyzer(rotation=\"varimax\", n_factors=7)\n",
    "fa.fit(df_scaled)\n",
    "fa\n",
    "#pd.DataFrame(fa.loadings_)"
   ]
  },
  {
   "cell_type": "code",
   "execution_count": null,
   "id": "54c5486d-65ca-4c0e-909a-513e02fdc318",
   "metadata": {},
   "outputs": [],
   "source": [
    "scores = fa.transform(df_scaled)\n",
    "scores.shape"
   ]
  },
  {
   "cell_type": "code",
   "execution_count": null,
   "id": "345643f7-7dd0-457d-a8f2-41f41e236bcd",
   "metadata": {},
   "outputs": [],
   "source": [
    "pd.DataFrame(fa.loadings_, index=df_scaled.columns)"
   ]
  },
  {
   "cell_type": "code",
   "execution_count": null,
   "id": "d3e5f2b5-e66f-4b5c-b86d-1f5545670588",
   "metadata": {},
   "outputs": [],
   "source": [
    "pd.DataFrame(fa.get_factor_variance())"
   ]
  },
  {
   "cell_type": "code",
   "execution_count": null,
   "id": "28b5221c-2104-4862-b8e8-8ebd7a72230b",
   "metadata": {},
   "outputs": [],
   "source": [
    "factor_outputs = pd.DataFrame(fa.transform(df_scaled))"
   ]
  },
  {
   "cell_type": "raw",
   "id": "cb7a48ea-e2bf-49fd-bc9f-c6cb12c0e3c5",
   "metadata": {},
   "source": [
    "Note: results are not that different and removing neutral doesn't make sense b/c it's so prevalent, try doing it in subtle degrees"
   ]
  }
 ],
 "metadata": {
  "kernelspec": {
   "display_name": "Python 3 (ipykernel)",
   "language": "python",
   "name": "python3"
  },
  "language_info": {
   "codemirror_mode": {
    "name": "ipython",
    "version": 3
   },
   "file_extension": ".py",
   "mimetype": "text/x-python",
   "name": "python",
   "nbconvert_exporter": "python",
   "pygments_lexer": "ipython3",
   "version": "3.9.7"
  },
  "toc-autonumbering": true
 },
 "nbformat": 4,
 "nbformat_minor": 5
}

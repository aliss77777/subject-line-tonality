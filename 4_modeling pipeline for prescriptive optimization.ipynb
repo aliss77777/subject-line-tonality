{
 "cells": [
  {
   "cell_type": "raw",
   "id": "be1503ef-e894-4138-9e16-6c614436965e",
   "metadata": {},
   "source": [
    "outline of steps\n",
    "1. load data\n",
    "2. preprocess\n",
    "- data cleaning\n",
    "-- remove any email sends < 100\n",
    "-- create filter set for subject_line = Ukraine OR campaign = Ukraine OR month = december\n",
    "\n",
    "- create target var\n",
    "create weighted average of funnel metrics\n",
    "-- open rate\n",
    "-- click rate\n",
    "-- donation rate\n",
    "check distribution across input vars\n",
    "\n",
    "3. building v1 model: basic model for feature important scores\n",
    "- try basic model \n",
    "- feature importance scores\n",
    "\n",
    "3.a add function to subset and create nested outputs feature to run by audience\n",
    "\n",
    "4. FOR V2: big data\n",
    "- \n",
    "\n",
    "5.\n",
    "5.\n",
    "6.\n",
    "7.\n",
    "8."
   ]
  },
  {
   "cell_type": "code",
   "execution_count": null,
   "id": "58e8de55-731f-4cb6-8079-74c7fb0b5fd5",
   "metadata": {},
   "outputs": [],
   "source": []
  },
  {
   "cell_type": "code",
   "execution_count": null,
   "id": "d9ebb2a9-4ca8-4de8-9f51-7b519c7bd486",
   "metadata": {},
   "outputs": [],
   "source": []
  },
  {
   "cell_type": "markdown",
   "id": "515455c8-cd81-444a-848d-1e0a358611b3",
   "metadata": {},
   "source": [
    "# load libraries and init"
   ]
  },
  {
   "cell_type": "code",
   "execution_count": null,
   "id": "a124364d-14d3-4814-9451-6801ee69a155",
   "metadata": {},
   "outputs": [],
   "source": []
  },
  {
   "cell_type": "code",
   "execution_count": 2,
   "id": "28c28673-4fbd-49bb-9a0c-c475187336ed",
   "metadata": {},
   "outputs": [],
   "source": [
    "import pandas as pd\n",
    "import numpy as np\n",
    "\n",
    "np.random.seed(67)"
   ]
  },
  {
   "cell_type": "code",
   "execution_count": 3,
   "id": "0b758b9c-32ec-459f-9e2c-7b0636307219",
   "metadata": {},
   "outputs": [],
   "source": [
    "data = pd.read_csv('MSF_full_data_with_topics_and_factors - data_with_topics_and_factors.csv')"
   ]
  },
  {
   "cell_type": "code",
   "execution_count": 5,
   "id": "0fd2b17e-050c-43ed-ae5c-b2db20c7ad42",
   "metadata": {},
   "outputs": [
    {
     "data": {
      "text/plain": [
       "(3061, 48)"
      ]
     },
     "execution_count": 5,
     "metadata": {},
     "output_type": "execute_result"
    }
   ],
   "source": [
    "data.shape"
   ]
  },
  {
   "cell_type": "code",
   "execution_count": 10,
   "id": "4737eb7a-e0bb-4d51-9d34-4ddaf7ae2240",
   "metadata": {},
   "outputs": [
    {
     "data": {
      "text/plain": [
       "Index(['index', 'send_dt', 'month', 'send_time', 'send_number', 'campaign',\n",
       "       'email_name', 'category', 'text', 'emails_sent', 'emails_delivered',\n",
       "       'undeliverable', 'total_clicks', 'unique_clicks', 'unique_opens',\n",
       "       'unsubscribes', 'unique_complaints', 'total_complaints', 'gifts',\n",
       "       'revenue', 'Audience', 'polarity_score', 'subjectivity_score',\n",
       "       'processed_text', 'id', 'topic', 'topic_named', 'open_rate',\n",
       "       'click_rate', 'donation_rate', 'revenue_1k', 'send_group',\n",
       "       'Open_Rate_nw', 'Click_Rate_nw', 'Donation_Rate_nw', 'revenue_1k_new',\n",
       "       'Inquisitive', 'Caring', 'Grateful', 'Assertive', 'Urgent', 'Neutral',\n",
       "       'Excited', 'Compassionate', 'emo value_original', 'emo_class_original',\n",
       "       'top_factor_score', 'top_factor_label'],\n",
       "      dtype='object')"
      ]
     },
     "execution_count": 10,
     "metadata": {},
     "output_type": "execute_result"
    }
   ],
   "source": [
    "data.columns"
   ]
  },
  {
   "cell_type": "raw",
   "id": "f670d074-6cc2-418f-bd1e-9267aaaaa1e7",
   "metadata": {},
   "source": [
    "calculated % columns came in as strings so i'm re-calculating"
   ]
  },
  {
   "cell_type": "code",
   "execution_count": 21,
   "id": "e30c8f43-059f-4e33-87bc-4f6426c6649a",
   "metadata": {},
   "outputs": [],
   "source": [
    "data.Open_Rate_nw = data.unique_opens / data.emails_sent\n",
    "data.Click_Rate_nw = data.unique_clicks / data.emails_sent\n",
    "data.Donation_Rate_nw = data.gifts / data.emails_sent"
   ]
  },
  {
   "cell_type": "code",
   "execution_count": 22,
   "id": "66305581-fe93-45f8-b058-1cec2852e6fb",
   "metadata": {},
   "outputs": [
    {
     "data": {
      "text/plain": [
       "0           $0\n",
       "1         $564\n",
       "3         $894\n",
       "5           $0\n",
       "7         $621\n",
       "         ...  \n",
       "3056       $16\n",
       "3057    $1,030\n",
       "3058      $107\n",
       "3059       $62\n",
       "3060       $44\n",
       "Name: revenue_1k_new, Length: 2801, dtype: object"
      ]
     },
     "execution_count": 22,
     "metadata": {},
     "output_type": "execute_result"
    }
   ],
   "source": [
    "data.revenue_1k_new"
   ]
  },
  {
   "cell_type": "code",
   "execution_count": null,
   "id": "9289099c-67bb-423c-bf91-e44a0cc91cbc",
   "metadata": {},
   "outputs": [],
   "source": []
  },
  {
   "cell_type": "markdown",
   "id": "6b62d6c4-bdbe-459d-8ba2-fdec7039567b",
   "metadata": {},
   "source": [
    "# Preprocessing"
   ]
  },
  {
   "cell_type": "markdown",
   "id": "1c7eeb23-4c57-4482-ae78-314ad29ea4a8",
   "metadata": {},
   "source": [
    "## removing emails sent < 100"
   ]
  },
  {
   "cell_type": "code",
   "execution_count": 6,
   "id": "a3292a02-1c8d-414b-bc3d-fe40d0f6e885",
   "metadata": {},
   "outputs": [],
   "source": [
    "data = data[data.emails_sent > 100]"
   ]
  },
  {
   "cell_type": "code",
   "execution_count": 7,
   "id": "c89fa075-d518-41ce-b8a3-bd81223ef012",
   "metadata": {},
   "outputs": [
    {
     "data": {
      "text/plain": [
       "(2801, 48)"
      ]
     },
     "execution_count": 7,
     "metadata": {},
     "output_type": "execute_result"
    }
   ],
   "source": [
    "data.shape"
   ]
  },
  {
   "cell_type": "code",
   "execution_count": 8,
   "id": "10fdcc44-6a3e-4152-a1e8-ac776ef97fce",
   "metadata": {},
   "outputs": [
    {
     "data": {
      "text/plain": [
       "12    431\n",
       "6     325\n",
       "3     290\n",
       "5     271\n",
       "11    235\n",
       "8     216\n",
       "7     212\n",
       "2     197\n",
       "1     169\n",
       "4     168\n",
       "10    157\n",
       "9     130\n",
       "Name: month, dtype: int64"
      ]
     },
     "execution_count": 8,
     "metadata": {},
     "output_type": "execute_result"
    }
   ],
   "source": [
    "data.month.value_counts()"
   ]
  },
  {
   "cell_type": "raw",
   "id": "50447e35-86bd-491b-a520-cee28e4a89ea",
   "metadata": {},
   "source": [
    "for now not removing December sends / bc EDA reveals a similar distribution across emotions\n",
    "\n",
    "would definitely redo will larger, raw data set and check for similar results"
   ]
  },
  {
   "cell_type": "markdown",
   "id": "96650a39-89ff-4a90-9753-794a4acf7854",
   "metadata": {},
   "source": [
    "## creating target vars for classification model"
   ]
  },
  {
   "cell_type": "markdown",
   "id": "18218214-dce3-4385-9032-95cea6f7d304",
   "metadata": {},
   "source": [
    "### weighted average of funnel metrics"
   ]
  },
  {
   "cell_type": "code",
   "execution_count": 25,
   "id": "0befad7a-cd94-4523-a13f-7ce54f15781c",
   "metadata": {},
   "outputs": [
    {
     "data": {
      "text/plain": [
       "0.19206658132013668"
      ]
     },
     "execution_count": 25,
     "metadata": {},
     "output_type": "execute_result"
    }
   ],
   "source": [
    "weighted_open_rate = sum(data.Open_Rate_nw * (data.emails_sent / sum(data.emails_sent)))\n",
    "weighted_open_rate"
   ]
  },
  {
   "cell_type": "code",
   "execution_count": 26,
   "id": "7d505f12-220a-4081-bf75-4dce7d15491d",
   "metadata": {},
   "outputs": [
    {
     "data": {
      "text/plain": [
       "0.003452878316797941"
      ]
     },
     "execution_count": 29,
     "metadata": {},
     "output_type": "execute_result"
    }
   ],
   "source": [
    "weighted_click_rate = sum(data.Click_Rate_nw * (data.emails_sent / sum(data.emails_sent)))\n",
    "weighted_click_rate"
   ]
  },
  {
   "cell_type": "raw",
   "id": "300c7bc8-3c3f-4a55-bd25-55c3d2ddc7ac",
   "metadata": {},
   "source": [
    "need to create a filtered data set for weighted avg of donation rate b/c of nans"
   ]
  },
  {
   "cell_type": "code",
   "execution_count": 32,
   "id": "e9231c62-0184-4668-9882-aa1d3d896d30",
   "metadata": {},
   "outputs": [
    {
     "data": {
      "text/plain": [
       "(2056, 48)"
      ]
     },
     "execution_count": 32,
     "metadata": {},
     "output_type": "execute_result"
    }
   ],
   "source": [
    "filtered_for_donations = data[data.gifts > 0 ]\n",
    "filtered_for_donations.shape"
   ]
  },
  {
   "cell_type": "code",
   "execution_count": 33,
   "id": "ad4cdb27-bf0f-41b6-8cc5-d71e3513e9ec",
   "metadata": {},
   "outputs": [
    {
     "data": {
      "text/plain": [
       "0.0012514277122436532"
      ]
     },
     "execution_count": 33,
     "metadata": {},
     "output_type": "execute_result"
    }
   ],
   "source": [
    "filtered_for_donations.Donation_Rate_nw.mean()"
   ]
  },
  {
   "cell_type": "code",
   "execution_count": 34,
   "id": "63ea3291-9f46-4d34-ade6-5e1c6a346fd1",
   "metadata": {},
   "outputs": [
    {
     "data": {
      "text/plain": [
       "0.0006672530284435379"
      ]
     },
     "execution_count": 34,
     "metadata": {},
     "output_type": "execute_result"
    }
   ],
   "source": [
    "weighted_donation_rate = sum(filtered_for_donations.Donation_Rate_nw * (filtered_for_donations.emails_sent / sum(filtered_for_donations.emails_sent)))\n",
    "weighted_donation_rate"
   ]
  },
  {
   "cell_type": "markdown",
   "id": "f79a9c8a-188f-41cb-a14d-c484e4264f43",
   "metadata": {},
   "source": [
    "### creating target vars greated than 15-20% of weighted average, based on EDA"
   ]
  },
  {
   "cell_type": "code",
   "execution_count": 50,
   "id": "2cf321ca-d048-4504-9354-beadd693ab5b",
   "metadata": {},
   "outputs": [],
   "source": [
    "data['target_for_opens'] = np.where(data.Open_Rate_nw > (weighted_open_rate * 1.15),1,0)\n",
    "data['target_for_clicks'] = np.where(data.Click_Rate_nw > (weighted_click_rate * 1.2),1,0)\n",
    "data['target_for_donations'] = np.where(data.Donation_Rate_nw > (weighted_donation_rate * 1.15),1,0)"
   ]
  },
  {
   "cell_type": "code",
   "execution_count": null,
   "id": "499f756e-4729-4c30-a7ea-c5bc73ed3d9f",
   "metadata": {},
   "outputs": [],
   "source": []
  },
  {
   "cell_type": "code",
   "execution_count": 51,
   "id": "b672787b-5468-4f1e-ad7d-dd7cf6ca838d",
   "metadata": {},
   "outputs": [
    {
     "name": "stdout",
     "output_type": "stream",
     "text": [
      "1239 1109 1239\n"
     ]
    }
   ],
   "source": [
    "print(data.target_for_opens.sum(), data.target_for_clicks.sum(), data.target_for_opens.sum())"
   ]
  },
  {
   "cell_type": "code",
   "execution_count": null,
   "id": "11769b23-0257-4a4c-ac80-ce92a95e7fb8",
   "metadata": {},
   "outputs": [],
   "source": []
  },
  {
   "cell_type": "code",
   "execution_count": 52,
   "id": "01e5273f-5b73-48b5-bb2d-d3f417f62ffb",
   "metadata": {},
   "outputs": [
    {
     "name": "stdout",
     "output_type": "stream",
     "text": [
      "0.4423420207068904 0.3959300249910746 0.4423420207068904\n"
     ]
    }
   ],
   "source": [
    "print(data.target_for_opens.sum()/len(data), data.target_for_clicks.sum()/len(data), data.target_for_opens.sum()/len(data))"
   ]
  },
  {
   "cell_type": "code",
   "execution_count": 53,
   "id": "2addbe5a-8302-41f4-abce-28df397143c3",
   "metadata": {},
   "outputs": [
    {
     "data": {
      "text/html": [
       "<div>\n",
       "<style scoped>\n",
       "    .dataframe tbody tr th:only-of-type {\n",
       "        vertical-align: middle;\n",
       "    }\n",
       "\n",
       "    .dataframe tbody tr th {\n",
       "        vertical-align: top;\n",
       "    }\n",
       "\n",
       "    .dataframe thead th {\n",
       "        text-align: right;\n",
       "    }\n",
       "</style>\n",
       "<table border=\"1\" class=\"dataframe\">\n",
       "  <thead>\n",
       "    <tr style=\"text-align: right;\">\n",
       "      <th>target_for_opens</th>\n",
       "      <th>0</th>\n",
       "      <th>1</th>\n",
       "    </tr>\n",
       "    <tr>\n",
       "      <th>top_factor_label</th>\n",
       "      <th></th>\n",
       "      <th></th>\n",
       "    </tr>\n",
       "  </thead>\n",
       "  <tbody>\n",
       "    <tr>\n",
       "      <th>Assertive</th>\n",
       "      <td>142</td>\n",
       "      <td>124</td>\n",
       "    </tr>\n",
       "    <tr>\n",
       "      <th>Caring</th>\n",
       "      <td>150</td>\n",
       "      <td>91</td>\n",
       "    </tr>\n",
       "    <tr>\n",
       "      <th>Compassionate</th>\n",
       "      <td>186</td>\n",
       "      <td>126</td>\n",
       "    </tr>\n",
       "    <tr>\n",
       "      <th>Excited</th>\n",
       "      <td>71</td>\n",
       "      <td>87</td>\n",
       "    </tr>\n",
       "    <tr>\n",
       "      <th>Grateful</th>\n",
       "      <td>66</td>\n",
       "      <td>67</td>\n",
       "    </tr>\n",
       "    <tr>\n",
       "      <th>Inquisitive</th>\n",
       "      <td>208</td>\n",
       "      <td>153</td>\n",
       "    </tr>\n",
       "    <tr>\n",
       "      <th>Neutral</th>\n",
       "      <td>664</td>\n",
       "      <td>552</td>\n",
       "    </tr>\n",
       "    <tr>\n",
       "      <th>Urgent</th>\n",
       "      <td>75</td>\n",
       "      <td>39</td>\n",
       "    </tr>\n",
       "  </tbody>\n",
       "</table>\n",
       "</div>"
      ],
      "text/plain": [
       "target_for_opens    0    1\n",
       "top_factor_label          \n",
       "Assertive         142  124\n",
       "Caring            150   91\n",
       "Compassionate     186  126\n",
       "Excited            71   87\n",
       "Grateful           66   67\n",
       "Inquisitive       208  153\n",
       "Neutral           664  552\n",
       "Urgent             75   39"
      ]
     },
     "execution_count": 53,
     "metadata": {},
     "output_type": "execute_result"
    }
   ],
   "source": [
    "pd.crosstab(data.top_factor_label, data.target_for_opens)"
   ]
  },
  {
   "cell_type": "code",
   "execution_count": 54,
   "id": "5afce8b3-9d17-49f5-86a2-95099033a3fa",
   "metadata": {},
   "outputs": [
    {
     "data": {
      "text/html": [
       "<div>\n",
       "<style scoped>\n",
       "    .dataframe tbody tr th:only-of-type {\n",
       "        vertical-align: middle;\n",
       "    }\n",
       "\n",
       "    .dataframe tbody tr th {\n",
       "        vertical-align: top;\n",
       "    }\n",
       "\n",
       "    .dataframe thead th {\n",
       "        text-align: right;\n",
       "    }\n",
       "</style>\n",
       "<table border=\"1\" class=\"dataframe\">\n",
       "  <thead>\n",
       "    <tr style=\"text-align: right;\">\n",
       "      <th>target_for_clicks</th>\n",
       "      <th>0</th>\n",
       "      <th>1</th>\n",
       "    </tr>\n",
       "    <tr>\n",
       "      <th>top_factor_label</th>\n",
       "      <th></th>\n",
       "      <th></th>\n",
       "    </tr>\n",
       "  </thead>\n",
       "  <tbody>\n",
       "    <tr>\n",
       "      <th>Assertive</th>\n",
       "      <td>169</td>\n",
       "      <td>97</td>\n",
       "    </tr>\n",
       "    <tr>\n",
       "      <th>Caring</th>\n",
       "      <td>147</td>\n",
       "      <td>94</td>\n",
       "    </tr>\n",
       "    <tr>\n",
       "      <th>Compassionate</th>\n",
       "      <td>222</td>\n",
       "      <td>90</td>\n",
       "    </tr>\n",
       "    <tr>\n",
       "      <th>Excited</th>\n",
       "      <td>119</td>\n",
       "      <td>39</td>\n",
       "    </tr>\n",
       "    <tr>\n",
       "      <th>Grateful</th>\n",
       "      <td>57</td>\n",
       "      <td>76</td>\n",
       "    </tr>\n",
       "    <tr>\n",
       "      <th>Inquisitive</th>\n",
       "      <td>190</td>\n",
       "      <td>171</td>\n",
       "    </tr>\n",
       "    <tr>\n",
       "      <th>Neutral</th>\n",
       "      <td>708</td>\n",
       "      <td>508</td>\n",
       "    </tr>\n",
       "    <tr>\n",
       "      <th>Urgent</th>\n",
       "      <td>80</td>\n",
       "      <td>34</td>\n",
       "    </tr>\n",
       "  </tbody>\n",
       "</table>\n",
       "</div>"
      ],
      "text/plain": [
       "target_for_clicks    0    1\n",
       "top_factor_label           \n",
       "Assertive          169   97\n",
       "Caring             147   94\n",
       "Compassionate      222   90\n",
       "Excited            119   39\n",
       "Grateful            57   76\n",
       "Inquisitive        190  171\n",
       "Neutral            708  508\n",
       "Urgent              80   34"
      ]
     },
     "execution_count": 54,
     "metadata": {},
     "output_type": "execute_result"
    }
   ],
   "source": [
    "pd.crosstab(data.top_factor_label, data.target_for_clicks)"
   ]
  },
  {
   "cell_type": "code",
   "execution_count": 55,
   "id": "e602e3e2-de8c-4f97-8393-f2ef1a05b719",
   "metadata": {},
   "outputs": [
    {
     "data": {
      "text/html": [
       "<div>\n",
       "<style scoped>\n",
       "    .dataframe tbody tr th:only-of-type {\n",
       "        vertical-align: middle;\n",
       "    }\n",
       "\n",
       "    .dataframe tbody tr th {\n",
       "        vertical-align: top;\n",
       "    }\n",
       "\n",
       "    .dataframe thead th {\n",
       "        text-align: right;\n",
       "    }\n",
       "</style>\n",
       "<table border=\"1\" class=\"dataframe\">\n",
       "  <thead>\n",
       "    <tr style=\"text-align: right;\">\n",
       "      <th>target_for_donations</th>\n",
       "      <th>0</th>\n",
       "      <th>1</th>\n",
       "    </tr>\n",
       "    <tr>\n",
       "      <th>top_factor_label</th>\n",
       "      <th></th>\n",
       "      <th></th>\n",
       "    </tr>\n",
       "  </thead>\n",
       "  <tbody>\n",
       "    <tr>\n",
       "      <th>Assertive</th>\n",
       "      <td>221</td>\n",
       "      <td>45</td>\n",
       "    </tr>\n",
       "    <tr>\n",
       "      <th>Caring</th>\n",
       "      <td>163</td>\n",
       "      <td>78</td>\n",
       "    </tr>\n",
       "    <tr>\n",
       "      <th>Compassionate</th>\n",
       "      <td>230</td>\n",
       "      <td>82</td>\n",
       "    </tr>\n",
       "    <tr>\n",
       "      <th>Excited</th>\n",
       "      <td>95</td>\n",
       "      <td>63</td>\n",
       "    </tr>\n",
       "    <tr>\n",
       "      <th>Grateful</th>\n",
       "      <td>99</td>\n",
       "      <td>34</td>\n",
       "    </tr>\n",
       "    <tr>\n",
       "      <th>Inquisitive</th>\n",
       "      <td>287</td>\n",
       "      <td>74</td>\n",
       "    </tr>\n",
       "    <tr>\n",
       "      <th>Neutral</th>\n",
       "      <td>883</td>\n",
       "      <td>333</td>\n",
       "    </tr>\n",
       "    <tr>\n",
       "      <th>Urgent</th>\n",
       "      <td>69</td>\n",
       "      <td>45</td>\n",
       "    </tr>\n",
       "  </tbody>\n",
       "</table>\n",
       "</div>"
      ],
      "text/plain": [
       "target_for_donations    0    1\n",
       "top_factor_label              \n",
       "Assertive             221   45\n",
       "Caring                163   78\n",
       "Compassionate         230   82\n",
       "Excited                95   63\n",
       "Grateful               99   34\n",
       "Inquisitive           287   74\n",
       "Neutral               883  333\n",
       "Urgent                 69   45"
      ]
     },
     "execution_count": 55,
     "metadata": {},
     "output_type": "execute_result"
    }
   ],
   "source": [
    "pd.crosstab(data.top_factor_label, data.target_for_donations)"
   ]
  },
  {
   "cell_type": "code",
   "execution_count": null,
   "id": "ba6e967a-6d35-456a-9041-db4546e42c6f",
   "metadata": {},
   "outputs": [],
   "source": []
  },
  {
   "cell_type": "markdown",
   "id": "98686127-3136-4b53-9f3a-f6971d5acd46",
   "metadata": {},
   "source": [
    "# Building v1 basic model"
   ]
  },
  {
   "cell_type": "markdown",
   "id": "f81a0933-e551-42dd-ae3b-cae7534306e8",
   "metadata": {},
   "source": [
    "# building X and Y data_frames for each model"
   ]
  },
  {
   "cell_type": "code",
   "execution_count": 56,
   "id": "454e6a5b-3e87-4e62-8a99-aa250a37a6bd",
   "metadata": {},
   "outputs": [],
   "source": [
    "list_of_feature_cols = ['Inquisitive',\t'Caring',\t'Grateful',\t'Assertive',\t'Urgent',\t'Neutral',\t'Excited',\t'Compassionate']"
   ]
  },
  {
   "cell_type": "code",
   "execution_count": 57,
   "id": "1ad48876-8aa8-448b-a805-095deda67d5e",
   "metadata": {},
   "outputs": [
    {
     "data": {
      "text/plain": [
       "(2801, 8)"
      ]
     },
     "execution_count": 57,
     "metadata": {},
     "output_type": "execute_result"
    }
   ],
   "source": [
    "X_features = data[list_of_feature_cols]\n",
    "X_features.shape"
   ]
  },
  {
   "cell_type": "code",
   "execution_count": 59,
   "id": "d4387983-c864-4284-b912-6c0e27ee62ec",
   "metadata": {},
   "outputs": [],
   "source": [
    "X_top_emotion_labels = data.top_factor_label"
   ]
  },
  {
   "cell_type": "code",
   "execution_count": 58,
   "id": "c2030596-9db8-494b-bed2-9c5867640380",
   "metadata": {},
   "outputs": [],
   "source": [
    "Y_opens = data.target_for_opens\n",
    "Y_clicks = data.target_for_clicks\n",
    "Y_donations = data.target_for_donations"
   ]
  },
  {
   "cell_type": "raw",
   "id": "97388a84-06ac-47de-b434-f5269769322b",
   "metadata": {},
   "source": [
    "REeturn here - make a look for all target vars"
   ]
  },
  {
   "cell_type": "code",
   "execution_count": 61,
   "id": "29d5e125-5a6b-4404-b855-146fcc5f70b7",
   "metadata": {},
   "outputs": [
    {
     "ename": "NameError",
     "evalue": "name 'estimator' is not defined",
     "output_type": "error",
     "traceback": [
      "\u001b[0;31m---------------------------------------------------------------------------\u001b[0m",
      "\u001b[0;31mNameError\u001b[0m                                 Traceback (most recent call last)",
      "\u001b[0;32m/var/folders/0n/jtvl1jfx6hj3j5xbd39_bfp40000gp/T/ipykernel_19237/677042658.py\u001b[0m in \u001b[0;36m<module>\u001b[0;34m\u001b[0m\n\u001b[1;32m      8\u001b[0m model = Pipeline([\n\u001b[1;32m      9\u001b[0m  \u001b[0;34m(\u001b[0m\u001b[0;34m'one_hot_encoder'\u001b[0m\u001b[0;34m,\u001b[0m \u001b[0mOneHotEncoder\u001b[0m\u001b[0;34m(\u001b[0m\u001b[0;34m)\u001b[0m\u001b[0;34m)\u001b[0m\u001b[0;34m,\u001b[0m\u001b[0;34m\u001b[0m\u001b[0;34m\u001b[0m\u001b[0m\n\u001b[0;32m---> 10\u001b[0;31m  \u001b[0;34m(\u001b[0m\u001b[0;34m'estimator'\u001b[0m\u001b[0;34m,\u001b[0m \u001b[0mestimator\u001b[0m\u001b[0;34m)\u001b[0m\u001b[0;34m\u001b[0m\u001b[0;34m\u001b[0m\u001b[0m\n\u001b[0m\u001b[1;32m     11\u001b[0m ])\n",
      "\u001b[0;31mNameError\u001b[0m: name 'estimator' is not defined"
     ]
    }
   ],
   "source": [
    "from sklearn.pipeline import Pipeline\n",
    "from sklearn.preprocessing import LabelEncoder, OneHotEncoder \n",
    "\n",
    "# Label-encode targets before modeling\n",
    "y = LabelEncoder().fit_transform(Y_opens)\n",
    "\n",
    "# One-hot encode columns before modeling\n",
    "model = Pipeline([\n",
    " ('one_hot_encoder', OneHotEncoder()),\n",
    " ('estimator', estimator)\n",
    "])"
   ]
  },
  {
   "cell_type": "markdown",
   "id": "cb677f40-9f56-487b-af83-2e34e90ace5f",
   "metadata": {},
   "source": [
    "## testing accuracy of different classifiers with Yellowbrick"
   ]
  },
  {
   "cell_type": "code",
   "execution_count": 63,
   "id": "495807f9-c2dd-4f26-9be1-7eb55ecc6847",
   "metadata": {},
   "outputs": [
    {
     "data": {
      "image/png": "[encoded data removed]",
      "text/plain": [
       "<Figure size 800x550 with 1 Axes>"
      ]
     },
     "metadata": {},
     "output_type": "display_data"
    },
    {
     "data": {
      "text/plain": [
       "<AxesSubplot:title={'center':'Feature Importances of 8 Features using RandomForestClassifier'}, xlabel='relative importance'>"
      ]
     },
     "execution_count": 63,
     "metadata": {},
     "output_type": "execute_result"
    }
   ],
   "source": [
    "from sklearn.ensemble import RandomForestClassifier\n",
    "from yellowbrick.model_selection import FeatureImportances\n",
    "\n",
    "model = RandomForestClassifier(n_estimators=10)\n",
    "viz = FeatureImportances(model)\n",
    "viz.fit(X_features, y)\n",
    "viz.show()\n",
    "\n",
    "#model.fit(X, y, **kwargs)\n",
    "\n"
   ]
  },
  {
   "cell_type": "code",
   "execution_count": 66,
   "id": "a9bbffdf-f80a-4898-8b93-21869cf6f21d",
   "metadata": {},
   "outputs": [
    {
     "name": "stdout",
     "output_type": "stream",
     "text": [
      "RandomForestClassifier: 0.7499999999999999\n"
     ]
    }
   ],
   "source": [
    "from sklearn.metrics import f1_score\n",
    "\n",
    "expected  = y\n",
    "predicted = model.predict(X_features)\n",
    "\n",
    "# Compute and return F1 (harmonic mean of precision and recall)\n",
    "print(\"{}: {}\".format(model.__class__.__name__, f1_score(expected, predicted)))"
   ]
  },
  {
   "cell_type": "code",
   "execution_count": null,
   "id": "0955cce3-8539-455a-bc8c-1256892d811c",
   "metadata": {},
   "outputs": [],
   "source": []
  },
  {
   "cell_type": "code",
   "execution_count": 70,
   "id": "8a9bb053-7de1-4470-adf2-433532bb9d36",
   "metadata": {},
   "outputs": [
    {
     "data": {
      "text/plain": [
       "array([1, 0])"
      ]
     },
     "execution_count": 70,
     "metadata": {},
     "output_type": "execute_result"
    }
   ],
   "source": [
    "Y_opens.unique()"
   ]
  },
  {
   "cell_type": "code",
   "execution_count": null,
   "id": "3f7dd074-536b-4dac-a0db-fc6c42bfbf61",
   "metadata": {},
   "outputs": [],
   "source": []
  },
  {
   "cell_type": "code",
   "execution_count": 72,
   "id": "381bf0b3-5cbe-42f6-82d4-743a550e1bee",
   "metadata": {},
   "outputs": [
    {
     "name": "stdout",
     "output_type": "stream",
     "text": [
      "              precision    recall  f1-score   support\n",
      "\n",
      "           1       0.77      0.92      0.84      1562\n",
      "           0       0.86      0.66      0.75      1239\n",
      "\n",
      "    accuracy                           0.80      2801\n",
      "   macro avg       0.82      0.79      0.79      2801\n",
      "weighted avg       0.81      0.80      0.80      2801\n",
      "\n"
     ]
    }
   ],
   "source": [
    "from sklearn.metrics import accuracy_score, classification_report\n",
    "\n",
    "#print(classification_report(y_test, y_pred, target_names=y_test.unique()))\n",
    "print(classification_report(expected, predicted, target_names=Y_opens.unique().astype('str')))"
   ]
  },
  {
   "cell_type": "code",
   "execution_count": null,
   "id": "5f8af4b8-e1a3-4f0e-9a30-7b050f873740",
   "metadata": {},
   "outputs": [],
   "source": []
  },
  {
   "cell_type": "raw",
   "id": "9b58072a-1b1e-45cb-b056-8d68db5710d5",
   "metadata": {},
   "source": [
    "resume here\n",
    "https://www.scikit-yb.org/en/latest/quickstart.html\n",
    "https://www.scikit-yb.org/en/latest/api/classifier/index.html\n",
    "https://www.scikit-yb.org/en/latest/tutorial.html\n",
    "https://www.scikit-yb.org/en/latest/api/model_selection/importances.html"
   ]
  },
  {
   "cell_type": "code",
   "execution_count": null,
   "id": "65c5b3bd-de1a-456a-aea4-7016fe2c2ed4",
   "metadata": {},
   "outputs": [],
   "source": []
  },
  {
   "cell_type": "code",
   "execution_count": null,
   "id": "023d63f5-b9d9-45b2-8396-3577691b4581",
   "metadata": {},
   "outputs": [],
   "source": []
  },
  {
   "cell_type": "code",
   "execution_count": null,
   "id": "da198665-dde3-41ff-9597-c077f78c65c5",
   "metadata": {},
   "outputs": [],
   "source": []
  },
  {
   "cell_type": "code",
   "execution_count": null,
   "id": "c0c4959a-b5b5-4913-87f4-5f315e5dfb46",
   "metadata": {},
   "outputs": [],
   "source": []
  }
 ],
 "metadata": {
  "kernelspec": {
   "display_name": "Python 3 (ipykernel)",
   "language": "python",
   "name": "python3"
  },
  "language_info": {
   "codemirror_mode": {
    "name": "ipython",
    "version": 3
   },
   "file_extension": ".py",
   "mimetype": "text/x-python",
   "name": "python",
   "nbconvert_exporter": "python",
   "pygments_lexer": "ipython3",
   "version": "3.9.7"
  }
 },
 "nbformat": 4,
 "nbformat_minor": 5
}

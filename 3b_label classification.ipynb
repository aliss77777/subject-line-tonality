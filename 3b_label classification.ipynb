{
 "cells": [
  {
   "cell_type": "markdown",
   "id": "d56cdf65-6a03-42d1-bfe4-d1eb6759a945",
   "metadata": {},
   "source": [
    "Steps in this notebook:\n",
    "1. Ingest data from previous step and load libraries\n",
    "2. Train a classification model based on the top label in each row from the factor analysis\n",
    "3. Pickle model for future data refreshes"
   ]
  },
  {
   "cell_type": "markdown",
   "id": "8d4a59c3-dd4a-4a54-bfe7-0308eac5876f",
   "metadata": {},
   "source": [
    "# Init libraries and data"
   ]
  },
  {
   "cell_type": "code",
   "execution_count": 1,
   "id": "d5ba2050-858f-4772-b5e0-418e626538ee",
   "metadata": {},
   "outputs": [],
   "source": [
    "import pandas as pd\n",
    "import numpy as np\n",
    "\n",
    "#random seed for reproducibility\n",
    "np.random.seed(67)"
   ]
  },
  {
   "cell_type": "code",
   "execution_count": 3,
   "id": "4d3825d2-6903-48fd-b3d5-d2d866ed326d",
   "metadata": {},
   "outputs": [],
   "source": [
    "data = pd.read_csv('sample data files/input_for_step_3b.csv')"
   ]
  },
  {
   "cell_type": "code",
   "execution_count": 4,
   "id": "f991df1b-ba43-4060-880c-4f96bcda6902",
   "metadata": {
    "executionInfo": {
     "elapsed": 164,
     "status": "ok",
     "timestamp": 1674507387847,
     "user": {
      "displayName": "Alexander Liss",
      "userId": "05878590222370572102"
     },
     "user_tz": 420
    },
    "id": "GsgUHvS2f9ru"
   },
   "outputs": [],
   "source": [
    "emotions_list = ['admiration', 'amusement', 'anger', 'annoyance', 'approval',\n",
    "'caring', 'confusion', 'curiosity', 'desire',\n",
    "'disappointment',\n",
    "'disapproval',\n",
    "'disgust',\n",
    "'embarrassment',\n",
    "'excitement',\n",
    "'fear',\n",
    "'gratitude',\n",
    "'grief',\n",
    "'joy',\n",
    "'love',\n",
    "'nervousness',\n",
    "'optimism',\n",
    "'pride',\n",
    "'realization',\n",
    "'relief',\n",
    "'remorse',\n",
    "'sadness',\n",
    "'surprise',\n",
    "'neutral']"
   ]
  },
  {
   "cell_type": "markdown",
   "id": "b13e8fc8-255e-4128-b690-efa0cdeaad33",
   "metadata": {},
   "source": [
    "# Load SKlearn model"
   ]
  },
  {
   "cell_type": "markdown",
   "id": "41a66488-bf98-4188-96a6-e1fe1580fd66",
   "metadata": {},
   "source": [
    "Note: using an SGDC classifier for multi-class classification based on continuous input variables. this is a pretty basic modeling pipeline and could no doubt be improved by future contributors. 😉"
   ]
  },
  {
   "cell_type": "code",
   "execution_count": 5,
   "id": "645ba6c9-9343-4446-a306-ddfc3f754a7f",
   "metadata": {},
   "outputs": [],
   "source": [
    "from sklearn.model_selection import train_test_split\n",
    "from sklearn.preprocessing import StandardScaler\n",
    "from sklearn.ensemble import RandomForestClassifier\n",
    "from sklearn.metrics import accuracy_score, classification_report\n",
    "from sklearn.pipeline import make_pipeline"
   ]
  },
  {
   "cell_type": "markdown",
   "id": "5f549d9b-2380-483e-aa18-dbd12bd11046",
   "metadata": {},
   "source": [
    "## test train split and check accuracy of model"
   ]
  },
  {
   "cell_type": "code",
   "execution_count": 6,
   "id": "1b2d84a1-9e23-4e26-8196-512aad355818",
   "metadata": {},
   "outputs": [],
   "source": [
    "X = data[emotions_list]\n",
    "y = data.top_factor_label"
   ]
  },
  {
   "cell_type": "code",
   "execution_count": 7,
   "id": "18ea04e3-f0fc-4839-b425-8f9518cc4ad9",
   "metadata": {},
   "outputs": [],
   "source": [
    "X_train, X_test, y_train, y_test = train_test_split(X, y, test_size=0.33, random_state=42)"
   ]
  },
  {
   "cell_type": "code",
   "execution_count": 14,
   "id": "9a7b090c-e300-4235-a007-12d054d1229b",
   "metadata": {},
   "outputs": [],
   "source": [
    "clf = make_pipeline(StandardScaler(),\n",
    "                    RandomForestClassifier())"
   ]
  },
  {
   "cell_type": "code",
   "execution_count": 15,
   "id": "4fabadfb-4783-4c84-83f2-3946b1ac8325",
   "metadata": {},
   "outputs": [
    {
     "data": {
      "text/plain": [
       "Pipeline(steps=[('standardscaler', StandardScaler()),\n",
       "                ('randomforestclassifier', RandomForestClassifier())])"
      ]
     },
     "execution_count": 15,
     "metadata": {},
     "output_type": "execute_result"
    }
   ],
   "source": [
    "clf.fit(X_train, y_train)"
   ]
  },
  {
   "cell_type": "code",
   "execution_count": 16,
   "id": "0c40863e-1f72-4b2c-bc2f-0c5a11a97b1b",
   "metadata": {},
   "outputs": [
    {
     "name": "stdout",
     "output_type": "stream",
     "text": [
      "accuracy 0.9954954954954955\n",
      "              precision    recall  f1-score   support\n",
      "\n",
      "     Neutral       1.00      1.00      1.00        89\n",
      "     Sadness       0.97      1.00      0.98        97\n",
      "  Excitement       0.99      1.00      1.00       156\n",
      "      Desire       1.00      1.00      1.00        32\n",
      "    Approval       0.98      0.98      0.98        66\n",
      "      Caring       1.00      1.00      1.00        64\n",
      "  Curiousity       1.00      0.99      1.00       508\n",
      "   Gratitude       1.00      0.99      0.99        98\n",
      "\n",
      "    accuracy                           1.00      1110\n",
      "   macro avg       0.99      1.00      0.99      1110\n",
      "weighted avg       1.00      1.00      1.00      1110\n",
      "\n"
     ]
    }
   ],
   "source": [
    "y_pred = clf.predict(X_test)\n",
    "\n",
    "print('accuracy %s' % accuracy_score(y_test, y_pred))\n",
    "print(classification_report(y_test, y_pred,target_names=y.unique()))"
   ]
  },
  {
   "cell_type": "markdown",
   "id": "4123fe75-701d-4d7a-a9d4-85963e6e74df",
   "metadata": {},
   "source": [
    "Notes:\n",
    "- 99.5% accuracy is pretty good for now but if the model is applied to new data there may be some drift requiring tuning and re-training over time.\n",
    "- This model applies the results of the factor analysis as labels, but, is based on the output of the HuggingFace model. A few reasons for this.\n",
    "- To generalize the FA results over time and sustain them as feature columns, a regression model would be needed to predict the FA columns, which would be based on the feature engineering of the HuggingFace model. It would be a lot of modeling on top on modeled data.\n",
    "- With this approach, the text classification labels \n",
    "- Additional, when explaning the results of one tonality label vs another, the 'processed_text' can help inform which specific terms decide the category. This helps with explainability.\n",
    "\n",
    "These steps are somewhat a matter of personal preference and can be altered as you see fit."
   ]
  },
  {
   "cell_type": "markdown",
   "id": "385fc457-f426-452d-999f-c24d0a9af00b",
   "metadata": {},
   "source": [
    "## Exporting the model for classification of future results (e.g. daily/ weekly/ monthly / quarterly) or new data sets"
   ]
  },
  {
   "cell_type": "code",
   "execution_count": 17,
   "id": "38665f09-3f49-47a7-b773-3bb5de90ef4f",
   "metadata": {},
   "outputs": [],
   "source": [
    "import pickle\n",
    "\n",
    "pickle.dump(clf, open('model/subject_line_tonality_classifier.pkl','wb'))"
   ]
  },
  {
   "cell_type": "code",
   "execution_count": null,
   "id": "ce1f57a7-fc0c-47fa-b774-3b8915f1c1e1",
   "metadata": {},
   "outputs": [],
   "source": []
  }
 ],
 "metadata": {
  "kernelspec": {
   "display_name": "Python 3 (ipykernel)",
   "language": "python",
   "name": "python3"
  },
  "language_info": {
   "codemirror_mode": {
    "name": "ipython",
    "version": 3
   },
   "file_extension": ".py",
   "mimetype": "text/x-python",
   "name": "python",
   "nbconvert_exporter": "python",
   "pygments_lexer": "ipython3",
   "version": "3.9.7"
  },
  "toc-autonumbering": true
 },
 "nbformat": 4,
 "nbformat_minor": 5
}

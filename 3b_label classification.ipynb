{
 "cells": [
  {
   "cell_type": "raw",
   "id": "9c5dd139-0b52-4a22-b92c-1081b98201c7",
   "metadata": {},
   "source": [
    "A. get training data\n",
    "1. load historical emotion cols\n",
    "2. load historical FA classification\n",
    "3. concat into a single DF\n",
    "\n",
    "B. get new data\n",
    "1. load q4 emo cols\n",
    "\n",
    "C. load SKlearn model \n",
    "1. build test / train split with historical data\n",
    "2. check model accuracy\n",
    "   - 88% accuracy on first try; let's try scaling\n",
    "   - 95.7% accuracy with scaling! i think that's good to go\n",
    "3. if it's 95% accurate...run on new data - PASS. apply to new data\n",
    "   - \n",
    "   - \n",
    "   - \n",
    "4. if not...oooo boy\n",
    " - option 1: manual classification\n",
    " - option 2: ML classification with manual tuning\n",
    "\n",
    "\n",
    "\n"
   ]
  },
  {
   "cell_type": "raw",
   "id": "1518fbf2-fa83-4a0f-9795-0bcbfd1b0ee8",
   "metadata": {},
   "source": [
    "/Users/alexanderliss/Library/CloudStorage/GoogleDrive-aliss@bluestate.co/My Drive/0_AI/MSF/MSF_full_data_with_topics_and_factors - data_with_topics_and_factors.csv"
   ]
  },
  {
   "cell_type": "markdown",
   "id": "8d4a59c3-dd4a-4a54-bfe7-0308eac5876f",
   "metadata": {},
   "source": [
    "# Init"
   ]
  },
  {
   "cell_type": "code",
   "execution_count": 1,
   "id": "d5ba2050-858f-4772-b5e0-418e626538ee",
   "metadata": {},
   "outputs": [],
   "source": [
    "import pandas as pd\n",
    "import numpy as np\n",
    "\n",
    "#random seed for reproducibility\n",
    "np.random.seed(67)"
   ]
  },
  {
   "cell_type": "markdown",
   "id": "366b2ce4-7d33-48b1-91a9-8f05c641f8fb",
   "metadata": {},
   "source": [
    "# load historical data"
   ]
  },
  {
   "cell_type": "code",
   "execution_count": 3,
   "id": "f3024c83-5330-4e3c-8ac5-31ddef8724a5",
   "metadata": {},
   "outputs": [],
   "source": [
    "historical_data_raw = pd.read_csv('Copy of historical_emotion outputs full v1 enhanced.csv')\n",
    "historical_data_scored = pd.read_csv('/Users/alexanderliss/Library/CloudStorage/GoogleDrive-aliss@bluestate.co/My Drive/0_AI/MSF/MSF_full_data_with_topics_and_factors - data_with_topics_and_factors.csv')"
   ]
  },
  {
   "cell_type": "code",
   "execution_count": 4,
   "id": "e4ceea17-b02b-43ba-ad3d-5ca0e5e7ea0e",
   "metadata": {},
   "outputs": [],
   "source": [
    "training_data = historical_data_raw.copy()"
   ]
  },
  {
   "cell_type": "code",
   "execution_count": 5,
   "id": "cc5bf616-3f72-40c3-8a10-c54e9118cadd",
   "metadata": {},
   "outputs": [],
   "source": [
    "training_data['top_factor_label'] = historical_data_scored.top_factor_label"
   ]
  },
  {
   "cell_type": "code",
   "execution_count": 6,
   "id": "cc1d9430-7615-49da-8c6b-e32e3af51f78",
   "metadata": {},
   "outputs": [
    {
     "data": {
      "text/plain": [
       "Index(['admiration', 'amusement', 'anger', 'annoyance', 'approval', 'caring',\n",
       "       'confusion', 'curiosity', 'desire', 'disappointment', 'disapproval',\n",
       "       'disgust', 'embarrassment', 'excitement', 'fear', 'gratitude', 'grief',\n",
       "       'joy', 'love', 'nervousness', 'optimism', 'pride', 'realization',\n",
       "       'relief', 'remorse', 'sadness', 'surprise', 'neutral', 'top_value',\n",
       "       'top_label', 'top_factor_label'],\n",
       "      dtype='object')"
      ]
     },
     "execution_count": 6,
     "metadata": {},
     "output_type": "execute_result"
    }
   ],
   "source": [
    "training_data.columns"
   ]
  },
  {
   "cell_type": "code",
   "execution_count": 7,
   "id": "3aedb59d-66d7-4b05-9861-5bc947b4eaf8",
   "metadata": {},
   "outputs": [],
   "source": [
    "training_data.drop(columns=['top_value','top_label'], inplace=True)"
   ]
  },
  {
   "cell_type": "markdown",
   "id": "eee33173-1221-4882-8386-6e143dca3e18",
   "metadata": {},
   "source": [
    "# Load recent data"
   ]
  },
  {
   "cell_type": "code",
   "execution_count": 9,
   "id": "5fe091d0-5758-47af-a378-4405e7c6e5ff",
   "metadata": {},
   "outputs": [],
   "source": [
    "new_data = pd.read_csv('Copy of Q4 2022 emotion outputs full v1_update.csv')"
   ]
  },
  {
   "cell_type": "code",
   "execution_count": 10,
   "id": "d76c1430-bada-440e-bc2f-7ee12027bc7f",
   "metadata": {},
   "outputs": [
    {
     "data": {
      "text/plain": [
       "Index(['Unnamed: 0', 'admiration', 'amusement', 'anger', 'annoyance',\n",
       "       'approval', 'caring', 'confusion', 'curiosity', 'desire',\n",
       "       'disappointment', 'disapproval', 'disgust', 'embarrassment',\n",
       "       'excitement', 'fear', 'gratitude', 'grief', 'joy', 'love',\n",
       "       'nervousness', 'optimism', 'pride', 'realization', 'relief', 'remorse',\n",
       "       'sadness', 'surprise', 'neutral', 'emo value_original',\n",
       "       'emo_class_original'],\n",
       "      dtype='object')"
      ]
     },
     "execution_count": 10,
     "metadata": {},
     "output_type": "execute_result"
    }
   ],
   "source": [
    "new_data.columns"
   ]
  },
  {
   "cell_type": "code",
   "execution_count": 11,
   "id": "e5299d8e-8b85-4773-bd39-0be0611435aa",
   "metadata": {},
   "outputs": [],
   "source": [
    "new_data.drop(columns=['Unnamed: 0','emo value_original','emo_class_original'], inplace=True)"
   ]
  },
  {
   "cell_type": "markdown",
   "id": "b13e8fc8-255e-4128-b690-efa0cdeaad33",
   "metadata": {},
   "source": [
    "# Load SKlearn model"
   ]
  },
  {
   "cell_type": "code",
   "execution_count": 12,
   "id": "645ba6c9-9343-4446-a306-ddfc3f754a7f",
   "metadata": {},
   "outputs": [],
   "source": [
    "from sklearn.model_selection import train_test_split\n",
    "from sklearn.preprocessing import StandardScaler\n",
    "from sklearn.linear_model import SGDClassifier\n",
    "from sklearn.metrics import accuracy_score, classification_report\n",
    "from sklearn.pipeline import make_pipeline"
   ]
  },
  {
   "cell_type": "markdown",
   "id": "5f549d9b-2380-483e-aa18-dbd12bd11046",
   "metadata": {},
   "source": [
    "## test train split and check accuracy of model with historical data"
   ]
  },
  {
   "cell_type": "code",
   "execution_count": 13,
   "id": "1b2d84a1-9e23-4e26-8196-512aad355818",
   "metadata": {},
   "outputs": [],
   "source": [
    "X = training_data.drop(columns=['top_factor_label'])\n",
    "y = training_data.top_factor_label"
   ]
  },
  {
   "cell_type": "code",
   "execution_count": 14,
   "id": "18ea04e3-f0fc-4839-b425-8f9518cc4ad9",
   "metadata": {},
   "outputs": [],
   "source": [
    "X_train, X_test, y_train, y_test = train_test_split(X, y, test_size=0.33, random_state=42)"
   ]
  },
  {
   "cell_type": "code",
   "execution_count": 15,
   "id": "4e66d31e-9ed4-4b08-868a-7d0b337f6936",
   "metadata": {},
   "outputs": [],
   "source": [
    "clf = make_pipeline(StandardScaler(),\n",
    "                    SGDClassifier(loss='hinge', penalty='l2',alpha=1e-3, random_state=42, max_iter=5, tol=None))"
   ]
  },
  {
   "cell_type": "code",
   "execution_count": 16,
   "id": "e4dcec0a-e69f-4e87-9178-fded80f0f677",
   "metadata": {},
   "outputs": [
    {
     "data": {
      "text/plain": [
       "Pipeline(steps=[('standardscaler', StandardScaler()),\n",
       "                ('sgdclassifier',\n",
       "                 SGDClassifier(alpha=0.001, max_iter=5, random_state=42,\n",
       "                               tol=None))])"
      ]
     },
     "execution_count": 16,
     "metadata": {},
     "output_type": "execute_result"
    }
   ],
   "source": [
    "clf.fit(X_train, y_train)"
   ]
  },
  {
   "cell_type": "code",
   "execution_count": 17,
   "id": "a1d4c383-6f6c-4db2-8f35-e5fdb0ad3e0e",
   "metadata": {},
   "outputs": [
    {
     "name": "stdout",
     "output_type": "stream",
     "text": [
      "accuracy 0.9574678536102869\n",
      "               precision    recall  f1-score   support\n",
      "\n",
      "      Neutral       0.99      0.90      0.94        99\n",
      "Compassionate       1.00      1.00      1.00        84\n",
      "      Excited       0.95      0.88      0.92       111\n",
      "       Urgent       0.95      0.84      0.89        50\n",
      "    Assertive       1.00      0.98      0.99        46\n",
      "       Caring       0.97      1.00      0.98       146\n",
      "  Inquisitive       0.94      0.99      0.96       438\n",
      "     Grateful       1.00      0.78      0.88        37\n",
      "\n",
      "     accuracy                           0.96      1011\n",
      "    macro avg       0.97      0.92      0.95      1011\n",
      " weighted avg       0.96      0.96      0.96      1011\n",
      "\n"
     ]
    }
   ],
   "source": [
    "y_pred = clf.predict(X_test)\n",
    "\n",
    "print('accuracy %s' % accuracy_score(y_test, y_pred))\n",
    "print(classification_report(y_test, y_pred,target_names=y.unique()))"
   ]
  },
  {
   "cell_type": "markdown",
   "id": "43bff23e-5309-4c26-88fd-4c6429c7c53b",
   "metadata": {},
   "source": [
    "### Restitching the data files together here for export"
   ]
  },
  {
   "cell_type": "code",
   "execution_count": 20,
   "id": "dc92edc2-eb8d-40c0-97d5-6fa96251464e",
   "metadata": {},
   "outputs": [],
   "source": [
    "historical_data_with_labels_accurate_jan_10 = pd.concat([historical_data_scored, historical_data_raw], axis=1)\n",
    "historical_data_with_labels_accurate_jan_10.to_csv('historical_data_with_labels_accurate_jan_10.csv', index=False)"
   ]
  },
  {
   "cell_type": "markdown",
   "id": "1ef367cf-dfdb-4823-9bb7-b2e8857c3e3f",
   "metadata": {},
   "source": [
    "## apply to new data"
   ]
  },
  {
   "cell_type": "code",
   "execution_count": 22,
   "id": "f10c425f-c889-4238-bdfd-b3099e58447e",
   "metadata": {},
   "outputs": [],
   "source": [
    "new_label_predictions = clf.predict(new_data)"
   ]
  },
  {
   "cell_type": "code",
   "execution_count": 23,
   "id": "ab78b80f-00d8-41da-aa21-79a9a3d57f19",
   "metadata": {},
   "outputs": [
    {
     "data": {
      "text/plain": [
       "Neutral          298\n",
       "Inquisitive       98\n",
       "Compassionate     75\n",
       "Caring            40\n",
       "Excited           15\n",
       "Assertive         13\n",
       "Grateful          12\n",
       "Urgent             8\n",
       "dtype: int64"
      ]
     },
     "execution_count": 23,
     "metadata": {},
     "output_type": "execute_result"
    }
   ],
   "source": [
    "pd.Series(new_label_predictions).value_counts()"
   ]
  },
  {
   "cell_type": "code",
   "execution_count": 24,
   "id": "acc6aca4-0811-4de8-978a-e58d2cf175a4",
   "metadata": {},
   "outputs": [],
   "source": [
    "new_data['top_factor_label'] = new_label_predictions"
   ]
  },
  {
   "cell_type": "raw",
   "id": "a86201f9-5881-4767-bdd6-9365c2762176",
   "metadata": {},
   "source": [
    "new_data.to_csv('q4 results with tonality label.csv', index=False)"
   ]
  },
  {
   "cell_type": "markdown",
   "id": "637e3f90-7d9b-450d-a786-c2b0b2c079a9",
   "metadata": {},
   "source": [
    "# stitching the combined files in here"
   ]
  },
  {
   "cell_type": "code",
   "execution_count": 25,
   "id": "f41561ed-1706-4903-b7d6-11c30d451ef0",
   "metadata": {},
   "outputs": [
    {
     "data": {
      "text/plain": [
       "Index(['admiration', 'amusement', 'anger', 'annoyance', 'approval', 'caring',\n",
       "       'confusion', 'curiosity', 'desire', 'disappointment', 'disapproval',\n",
       "       'disgust', 'embarrassment', 'excitement', 'fear', 'gratitude', 'grief',\n",
       "       'joy', 'love', 'nervousness', 'optimism', 'pride', 'realization',\n",
       "       'relief', 'remorse', 'sadness', 'surprise', 'neutral',\n",
       "       'top_factor_label'],\n",
       "      dtype='object')"
      ]
     },
     "execution_count": 25,
     "metadata": {},
     "output_type": "execute_result"
    }
   ],
   "source": [
    "new_data.columns"
   ]
  },
  {
   "cell_type": "code",
   "execution_count": 27,
   "id": "9540fe4a-30e9-4ce0-991a-307a254aef59",
   "metadata": {
    "collapsed": true,
    "jupyter": {
     "outputs_hidden": true
    },
    "tags": []
   },
   "outputs": [
    {
     "data": {
      "text/plain": [
       "0           Neutral\n",
       "1           Neutral\n",
       "2           Neutral\n",
       "3           Neutral\n",
       "4           Neutral\n",
       "5           Neutral\n",
       "6           Neutral\n",
       "7           Neutral\n",
       "8           Neutral\n",
       "9           Neutral\n",
       "10          Neutral\n",
       "11          Neutral\n",
       "12          Neutral\n",
       "13          Neutral\n",
       "14          Neutral\n",
       "15          Neutral\n",
       "16          Neutral\n",
       "17          Neutral\n",
       "18        Assertive\n",
       "19    Compassionate\n",
       "20    Compassionate\n",
       "21    Compassionate\n",
       "22    Compassionate\n",
       "23    Compassionate\n",
       "24    Compassionate\n",
       "Name: top_factor_label, dtype: object"
      ]
     },
     "execution_count": 27,
     "metadata": {},
     "output_type": "execute_result"
    }
   ],
   "source": [
    "new_data.top_factor_label.head(25)"
   ]
  },
  {
   "cell_type": "code",
   "execution_count": 28,
   "id": "807936ae-179f-46af-a8f8-3b967497249d",
   "metadata": {},
   "outputs": [],
   "source": [
    "new_data_bq_export = pd.read_csv('q4 2022 data raw.csv')"
   ]
  },
  {
   "cell_type": "code",
   "execution_count": 32,
   "id": "23010a52-79e0-42fe-8f94-9751a19f5166",
   "metadata": {},
   "outputs": [],
   "source": [
    "q4_2022_data_with_labels_accurate_jan_10 = pd.concat([new_data_bq_export, new_data], axis=1)\n",
    "q4_2022_data_with_labels_accurate_jan_10.to_csv('q4_2022_data_with_labels_accurate_jan_10.csv', index=False)"
   ]
  },
  {
   "cell_type": "markdown",
   "id": "bc07b2b7-7115-4ac7-8351-a6a27eda7022",
   "metadata": {},
   "source": [
    "## subsetting the files based on columns and merging"
   ]
  },
  {
   "cell_type": "code",
   "execution_count": 33,
   "id": "e043db08-9f09-4715-aad4-7e9507b46520",
   "metadata": {},
   "outputs": [
    {
     "data": {
      "text/plain": [
       "Index(['send_dt', 'send_time', 'send_number', 'campaign', 'email_name',\n",
       "       'category', 'text', 'emails_sent', 'emails_delivered', 'undeliverable',\n",
       "       'total_clicks', 'unique_clicks', 'unique_opens', 'unsubscribes',\n",
       "       'unique_complaints', 'total_complaints', 'gifts', 'revenue', 'Audience',\n",
       "       'send_group', 'Open_Rate_nw', 'Click_Rate_nw', 'Donation_Rate_nw',\n",
       "       'revenue_1k_new', 'month', 'polarity_score', 'subjectivity_score',\n",
       "       'processed_text', 'admiration', 'amusement', 'anger', 'annoyance',\n",
       "       'approval', 'caring', 'confusion', 'curiosity', 'desire',\n",
       "       'disappointment', 'disapproval', 'disgust', 'embarrassment',\n",
       "       'excitement', 'fear', 'gratitude', 'grief', 'joy', 'love',\n",
       "       'nervousness', 'optimism', 'pride', 'realization', 'relief', 'remorse',\n",
       "       'sadness', 'surprise', 'neutral', 'top_factor_label'],\n",
       "      dtype='object')"
      ]
     },
     "execution_count": 33,
     "metadata": {},
     "output_type": "execute_result"
    }
   ],
   "source": [
    "q4_2022_data_with_labels_accurate_jan_10.columns"
   ]
  },
  {
   "cell_type": "code",
   "execution_count": 35,
   "id": "9a0e4620-8782-44a1-bcd2-b582b15cf967",
   "metadata": {},
   "outputs": [],
   "source": [
    "historical_data_with_labels_accurate_jan_10_trimmed_columns = historical_data_with_labels_accurate_jan_10[list(q4_2022_data_with_labels_accurate_jan_10.columns)]"
   ]
  },
  {
   "cell_type": "code",
   "execution_count": 37,
   "id": "785c7a6e-7c9a-4784-9d6f-7a0c87b77a57",
   "metadata": {},
   "outputs": [],
   "source": [
    "combined_data_with_labels_accurate_jan_10 = pd.concat([q4_2022_data_with_labels_accurate_jan_10, historical_data_with_labels_accurate_jan_10_trimmed_columns])\n",
    "combined_data_with_labels_accurate_jan_10.to_csv('combined_data_with_labels_accurate_jan_10.csv', index=False)"
   ]
  },
  {
   "cell_type": "code",
   "execution_count": 45,
   "id": "2c1101be-5c55-4af1-a47f-3a1ec0235f44",
   "metadata": {},
   "outputs": [
    {
     "data": {
      "text/plain": [
       "Neutral          1607\n",
       "Inquisitive       512\n",
       "Compassionate     407\n",
       "Assertive         306\n",
       "Caring            297\n",
       "Excited           184\n",
       "Grateful          181\n",
       "Urgent            126\n",
       "Name: top_factor_label, dtype: int64"
      ]
     },
     "execution_count": 45,
     "metadata": {},
     "output_type": "execute_result"
    }
   ],
   "source": [
    "combined_data_with_labels_accurate_jan_10.top_factor_label.value_counts()"
   ]
  },
  {
   "cell_type": "markdown",
   "id": "87b7a6ea-ebc2-4116-9c8f-6e927c35abc0",
   "metadata": {},
   "source": [
    "# testing the labels are okee-dokee"
   ]
  },
  {
   "cell_type": "code",
   "execution_count": 38,
   "id": "f238eabd-df5c-4732-a222-0d76cc35a256",
   "metadata": {},
   "outputs": [],
   "source": [
    "quant_feature_cols = [\n",
    "    'admiration', 'amusement', 'anger', 'annoyance',\n",
    "       'approval', 'caring', 'confusion', 'curiosity', 'desire',\n",
    "       'disappointment', 'disapproval', 'disgust', 'embarrassment',\n",
    "       'excitement', 'fear', 'gratitude', 'grief', 'joy', 'love',\n",
    "       'nervousness', 'optimism', 'pride', 'realization', 'relief', 'remorse',\n",
    "       'sadness', 'surprise', 'neutral']"
   ]
  },
  {
   "cell_type": "code",
   "execution_count": null,
   "id": "db98da83-7b0e-45fa-8ea7-f304f1f69023",
   "metadata": {},
   "outputs": [],
   "source": []
  },
  {
   "cell_type": "code",
   "execution_count": 39,
   "id": "b47e4c7f-9eec-41ea-ae87-3eb55f2a87f3",
   "metadata": {},
   "outputs": [],
   "source": [
    "X = combined_data_with_labels_accurate_jan_10[quant_feature_cols]\n",
    "y = combined_data_with_labels_accurate_jan_10.top_factor_label"
   ]
  },
  {
   "cell_type": "code",
   "execution_count": 40,
   "id": "62ecb102-22e9-4467-a719-e694abc9fd40",
   "metadata": {},
   "outputs": [],
   "source": [
    "X_train, X_test, y_train, y_test = train_test_split(X, y, test_size=0.33, random_state=42)"
   ]
  },
  {
   "cell_type": "code",
   "execution_count": 41,
   "id": "7afe9d60-3f07-4ceb-9193-a531e49950ae",
   "metadata": {},
   "outputs": [],
   "source": [
    "clf = make_pipeline(StandardScaler(),\n",
    "                    SGDClassifier(loss='hinge', penalty='l2',alpha=1e-3, random_state=42, max_iter=5, tol=None))"
   ]
  },
  {
   "cell_type": "code",
   "execution_count": 42,
   "id": "d6aa9d99-8a5b-48c1-9011-b8bac12bf542",
   "metadata": {},
   "outputs": [
    {
     "data": {
      "text/plain": [
       "Pipeline(steps=[('standardscaler', StandardScaler()),\n",
       "                ('sgdclassifier',\n",
       "                 SGDClassifier(alpha=0.001, max_iter=5, random_state=42,\n",
       "                               tol=None))])"
      ]
     },
     "execution_count": 42,
     "metadata": {},
     "output_type": "execute_result"
    }
   ],
   "source": [
    "clf.fit(X_train, y_train)"
   ]
  },
  {
   "cell_type": "code",
   "execution_count": 43,
   "id": "d2a7a4b8-4eb7-4662-a047-3bc2bf22ec7c",
   "metadata": {},
   "outputs": [
    {
     "name": "stdout",
     "output_type": "stream",
     "text": [
      "accuracy 0.9589958158995816\n",
      "               precision    recall  f1-score   support\n",
      "\n",
      "      Neutral       0.97      0.88      0.92        98\n",
      "    Assertive       1.00      0.96      0.98        89\n",
      "Compassionate       0.92      0.95      0.94       125\n",
      "  Inquisitive       1.00      0.78      0.88        60\n",
      "     Grateful       1.00      1.00      1.00        52\n",
      "       Caring       0.96      0.99      0.97       178\n",
      "      Excited       0.95      0.99      0.97       557\n",
      "       Urgent       1.00      0.89      0.94        36\n",
      "\n",
      "     accuracy                           0.96      1195\n",
      "    macro avg       0.97      0.93      0.95      1195\n",
      " weighted avg       0.96      0.96      0.96      1195\n",
      "\n"
     ]
    }
   ],
   "source": [
    "y_pred = clf.predict(X_test)\n",
    "\n",
    "print('accuracy %s' % accuracy_score(y_test, y_pred))\n",
    "print(classification_report(y_test, y_pred,target_names=y.unique()))"
   ]
  },
  {
   "cell_type": "markdown",
   "id": "c9f303d3-8589-4b61-a8f9-344d1db1e5a9",
   "metadata": {},
   "source": [
    "# build a combined model with old and new preds and pickle it"
   ]
  },
  {
   "cell_type": "code",
   "execution_count": 44,
   "id": "38665f09-3f49-47a7-b773-3bb5de90ef4f",
   "metadata": {},
   "outputs": [],
   "source": [
    "#https://medium.com/@maziarizadi/pickle-your-model-in-python-2bbe7dba2bbb\n",
    "\n",
    "import pickle\n",
    "\n",
    "pickle.dump(clf, open('subject_line_tonality_classifier_jan10.pkl','wb'))"
   ]
  },
  {
   "cell_type": "raw",
   "id": "417ec5e9-88e9-435b-ac9e-24ee137fa1be",
   "metadata": {},
   "source": [
    "full_data_with_predictions.to_csv('MSF scored emo_results lifetime.csv', index='False')"
   ]
  },
  {
   "cell_type": "markdown",
   "id": "0b470df3-e793-41f0-8767-c27f09e7a30c",
   "metadata": {},
   "source": [
    "## exporting new master date file"
   ]
  },
  {
   "cell_type": "code",
   "execution_count": 46,
   "id": "9749c317-62c2-4c53-b157-9a721cf9d6e2",
   "metadata": {},
   "outputs": [],
   "source": [
    "combined_data_with_labels_accurate_jan_10.to_csv('new_master_file_through_EOY_2022.csv', index=False)"
   ]
  },
  {
   "cell_type": "code",
   "execution_count": null,
   "id": "7fec1678-7025-4138-b6e7-a47abae8cebf",
   "metadata": {},
   "outputs": [],
   "source": []
  },
  {
   "cell_type": "markdown",
   "id": "0ef9d2ff-5431-4bcc-adda-52bc656906a7",
   "metadata": {},
   "source": [
    "# one last sanity check - reloading the new new data file the running the model against it for accuracy"
   ]
  },
  {
   "cell_type": "code",
   "execution_count": 52,
   "id": "a24465c7-31b0-4b6a-be36-8694e2cbc8d3",
   "metadata": {},
   "outputs": [],
   "source": [
    "data = pd.read_csv('testing-new_master_file_through_EOY_2022.csv')"
   ]
  },
  {
   "cell_type": "code",
   "execution_count": 57,
   "id": "9144fa82-f71d-48a2-9555-1f63f2bf1086",
   "metadata": {},
   "outputs": [],
   "source": [
    "pickled_model_new = pickle.load(open('subject_line_tonality_classifier_jan10.pkl', 'rb'))"
   ]
  },
  {
   "cell_type": "code",
   "execution_count": 53,
   "id": "ab635a14-2d66-4ddd-af78-3b24865ce6f1",
   "metadata": {},
   "outputs": [],
   "source": [
    "X = data[quant_feature_cols]\n",
    "y = data.top_factor_label"
   ]
  },
  {
   "cell_type": "code",
   "execution_count": 54,
   "id": "fa580bb8-8563-4fd8-8b43-d4e885015554",
   "metadata": {},
   "outputs": [
    {
     "data": {
      "text/plain": [
       "Neutral          1555\n",
       "Inquisitive       496\n",
       "Compassionate     402\n",
       "Assertive         345\n",
       "Caring            301\n",
       "Grateful          185\n",
       "Excited           184\n",
       "Urgent            152\n",
       "Name: top_factor_label, dtype: int64"
      ]
     },
     "execution_count": 54,
     "metadata": {},
     "output_type": "execute_result"
    }
   ],
   "source": [
    "y.value_counts()"
   ]
  },
  {
   "cell_type": "code",
   "execution_count": 55,
   "id": "eb165ffd-7d53-4b76-a7d1-e7a5168dbf6b",
   "metadata": {},
   "outputs": [],
   "source": [
    "X_train, X_test, y_train, y_test = train_test_split(X, y, test_size=0.33, random_state=42)"
   ]
  },
  {
   "cell_type": "code",
   "execution_count": 58,
   "id": "51dfb43a-125e-42ea-870c-73a2c003f7ad",
   "metadata": {},
   "outputs": [
    {
     "name": "stdout",
     "output_type": "stream",
     "text": [
      "accuracy 0.9322175732217574\n",
      "               precision    recall  f1-score   support\n",
      "\n",
      "       Caring       0.97      0.79      0.87       109\n",
      "Compassionate       0.98      0.94      0.96       115\n",
      "      Neutral       0.90      0.94      0.92       129\n",
      "       Urgent       0.98      0.80      0.88        54\n",
      "  Inquisitive       0.97      0.94      0.95        63\n",
      "    Assertive       0.93      0.96      0.95       170\n",
      "      Excited       0.92      0.99      0.95       501\n",
      "     Grateful       1.00      0.69      0.81        54\n",
      "\n",
      "     accuracy                           0.93      1195\n",
      "    macro avg       0.95      0.88      0.91      1195\n",
      " weighted avg       0.94      0.93      0.93      1195\n",
      "\n"
     ]
    }
   ],
   "source": [
    "y_pred = pickled_model_new.predict(X_test)\n",
    "\n",
    "print('accuracy %s' % accuracy_score(y_test, y_pred))\n",
    "print(classification_report(y_test, y_pred,target_names=y.unique()))"
   ]
  },
  {
   "cell_type": "raw",
   "id": "1d772187-2d42-4f0d-bd8b-746e86d2493e",
   "metadata": {},
   "source": [
    "## finding! my manual labeling reduced model accuracy. let's resume here and try adding in features with an sklearn TFIDF vectorizer"
   ]
  },
  {
   "cell_type": "markdown",
   "id": "0734f344-8eda-459a-85b8-4340205209a8",
   "metadata": {},
   "source": [
    "# appendix"
   ]
  },
  {
   "cell_type": "raw",
   "id": "1bc37570-dd3f-4420-8b38-022f1c29a39c",
   "metadata": {},
   "source": [
    "historical training. v1 raw without scaling"
   ]
  },
  {
   "cell_type": "code",
   "execution_count": 19,
   "id": "635d276e-50d0-4d34-aab4-0a03236450ff",
   "metadata": {},
   "outputs": [
    {
     "name": "stdout",
     "output_type": "stream",
     "text": [
      "accuracy 0.8822947576656776\n",
      "               precision    recall  f1-score   support\n",
      "\n",
      "      Neutral       0.96      0.77      0.85        99\n",
      "Compassionate       0.89      0.80      0.84        84\n",
      "      Excited       0.97      0.59      0.74       111\n",
      "       Urgent       0.90      0.92      0.91        50\n",
      "    Assertive       0.94      0.98      0.96        46\n",
      "       Caring       0.98      0.91      0.94       146\n",
      "  Inquisitive       0.82      0.99      0.90       438\n",
      "     Grateful       1.00      0.65      0.79        37\n",
      "\n",
      "     accuracy                           0.88      1011\n",
      "    macro avg       0.93      0.83      0.87      1011\n",
      " weighted avg       0.90      0.88      0.88      1011\n",
      "\n"
     ]
    }
   ],
   "source": [
    "y_pred = sgd.predict(X_test)\n",
    "\n",
    "print('accuracy %s' % accuracy_score(y_pred, y_test))\n",
    "print(classification_report(y_test, y_pred,target_names=y.unique()))"
   ]
  },
  {
   "cell_type": "raw",
   "id": "8a9af655-c7af-49f8-857a-5516e26545cd",
   "metadata": {},
   "source": []
  },
  {
   "cell_type": "raw",
   "id": "70b7945f-65db-41c5-921e-d2bfebfc12eb",
   "metadata": {},
   "source": [
    "historical training. v2 with scaling. wow 95.7%!!"
   ]
  },
  {
   "cell_type": "code",
   "execution_count": 26,
   "id": "baf9d773-5449-43ec-b808-226a6e2cf76f",
   "metadata": {},
   "outputs": [
    {
     "name": "stdout",
     "output_type": "stream",
     "text": [
      "accuracy 0.9574678536102869\n",
      "               precision    recall  f1-score   support\n",
      "\n",
      "      Neutral       0.99      0.90      0.94        99\n",
      "Compassionate       1.00      1.00      1.00        84\n",
      "      Excited       0.95      0.88      0.92       111\n",
      "       Urgent       0.95      0.84      0.89        50\n",
      "    Assertive       1.00      0.98      0.99        46\n",
      "       Caring       0.97      1.00      0.98       146\n",
      "  Inquisitive       0.94      0.99      0.96       438\n",
      "     Grateful       1.00      0.78      0.88        37\n",
      "\n",
      "     accuracy                           0.96      1011\n",
      "    macro avg       0.97      0.92      0.95      1011\n",
      " weighted avg       0.96      0.96      0.96      1011\n",
      "\n"
     ]
    }
   ],
   "source": [
    "y_pred = clf.predict(X_test)\n",
    "\n",
    "print('accuracy %s' % accuracy_score(y_pred, y_test))\n",
    "print(classification_report(y_test, y_pred,target_names=y.unique()))"
   ]
  },
  {
   "cell_type": "raw",
   "id": "8acafc74-b613-4c01-adb5-edfa93c11714",
   "metadata": {},
   "source": [
    "historical training. without doing test train split. looks like accuracy is slightly lower! test train split is the way to go then"
   ]
  },
  {
   "cell_type": "code",
   "execution_count": 39,
   "id": "85eaaa7f-a920-4bb6-8a10-9af5d3ef05db",
   "metadata": {},
   "outputs": [
    {
     "name": "stdout",
     "output_type": "stream",
     "text": [
      "accuracy 0.9496896439072199\n",
      "               precision    recall  f1-score   support\n",
      "\n",
      "      Neutral       0.91      0.87      0.89       293\n",
      "Compassionate       1.00      0.96      0.98       257\n",
      "      Excited       0.94      0.93      0.94       332\n",
      "       Urgent       1.00      0.76      0.86       169\n",
      "    Assertive       1.00      0.98      0.99       169\n",
      "       Caring       1.00      0.96      0.98       414\n",
      "  Inquisitive       0.92      1.00      0.96      1309\n",
      "     Grateful       1.00      0.79      0.88       118\n",
      "\n",
      "     accuracy                           0.95      3061\n",
      "    macro avg       0.97      0.91      0.94      3061\n",
      " weighted avg       0.95      0.95      0.95      3061\n",
      "\n"
     ]
    }
   ],
   "source": [
    "clf.fit(X, y)\n",
    "\n",
    "expected = y\n",
    "predicted = clf.predict(X)\n",
    "\n",
    "print('accuracy %s' % accuracy_score(expected, predicted))\n",
    "print(classification_report(expected, predicted, target_names=y.unique()))"
   ]
  },
  {
   "cell_type": "markdown",
   "id": "3643344b-0f43-4d9a-ac3d-0fd43c23a8d4",
   "metadata": {},
   "source": [
    "## Extra credit -- evaluating different classifiers"
   ]
  },
  {
   "cell_type": "code",
   "execution_count": null,
   "id": "4746e79d-a129-4c4f-8a18-bebce7252114",
   "metadata": {},
   "outputs": [],
   "source": []
  },
  {
   "cell_type": "code",
   "execution_count": 37,
   "id": "fbe4b2a7-6e56-4a16-8844-647ca62184fe",
   "metadata": {},
   "outputs": [],
   "source": [
    "# https://www.scikit-yb.org/en/latest/tutorial.html\n",
    "from sklearn.metrics import f1_score\n",
    "from sklearn.pipeline import Pipeline\n",
    "from sklearn.svm import LinearSVC, NuSVC, SVC\n",
    "from sklearn.neighbors import KNeighborsClassifier\n",
    "from sklearn.preprocessing import OneHotEncoder, LabelEncoder\n",
    "from sklearn.linear_model import LogisticRegressionCV, LogisticRegression, SGDClassifier\n",
    "from sklearn.ensemble import BaggingClassifier, ExtraTreesClassifier, RandomForestClassifier\n",
    "\n",
    "models = [\n",
    "    SVC(gamma='auto'), NuSVC(gamma='auto'), LinearSVC(),\n",
    "    SGDClassifier(max_iter=100, tol=1e-3), KNeighborsClassifier(),\n",
    "    LogisticRegression(solver='lbfgs'), LogisticRegressionCV(cv=3),\n",
    "    BaggingClassifier(), ExtraTreesClassifier(n_estimators=300),\n",
    "    RandomForestClassifier(n_estimators=300)\n",
    "        ]\n",
    "\n",
    "def score_model(X, y, estimator, **kwargs):\n",
    "    \"\"\"\n",
    "    Test various estimators.\n",
    "    \"\"\"\n",
    "    y = LabelEncoder().fit_transform(y)\n",
    "    model = Pipeline([\n",
    "        ('one_hot_encoder', OneHotEncoder()),\n",
    "        ('estimator', estimator)\n",
    "        ])\n",
    "    \n",
    "    # Instantiate the classification model and visualizer\n",
    "    model.fit(X, y, **kwargs)\n",
    "\n",
    "    expected  = y\n",
    "    predicted = model.predict(X)\n",
    "    \n",
    "    #print('accuracy %s' % accuracy_score(y_test, y_pred))\n",
    "\n",
    "    # Compute and return F1 (harmonic mean of precision and recall)\n",
    "    print(\"{}: {}\".format(estimator.__class__.__name__, accuracy_score(expected, predicted)))#f1_score(expected, predicted)))\n"
   ]
  },
  {
   "cell_type": "code",
   "execution_count": 38,
   "id": "0ee6c5e7-897f-4dc1-a886-b365ed70cb90",
   "metadata": {
    "collapsed": true,
    "jupyter": {
     "outputs_hidden": true
    },
    "tags": []
   },
   "outputs": [
    {
     "name": "stdout",
     "output_type": "stream",
     "text": [
      "SVC: 0.42763802678863116\n"
     ]
    },
    {
     "ename": "ValueError",
     "evalue": "b'specified nu is infeasible'",
     "output_type": "error",
     "traceback": [
      "\u001b[0;31m---------------------------------------------------------------------------\u001b[0m",
      "\u001b[0;31mValueError\u001b[0m                                Traceback (most recent call last)",
      "\u001b[0;32m/var/folders/0n/jtvl1jfx6hj3j5xbd39_bfp40000gp/T/ipykernel_15057/22949431.py\u001b[0m in \u001b[0;36m<module>\u001b[0;34m\u001b[0m\n\u001b[1;32m      1\u001b[0m \u001b[0;32mfor\u001b[0m \u001b[0mmodel\u001b[0m \u001b[0;32min\u001b[0m \u001b[0mmodels\u001b[0m\u001b[0;34m:\u001b[0m\u001b[0;34m\u001b[0m\u001b[0;34m\u001b[0m\u001b[0m\n\u001b[0;32m----> 2\u001b[0;31m     \u001b[0mscore_model\u001b[0m\u001b[0;34m(\u001b[0m\u001b[0mX\u001b[0m\u001b[0;34m,\u001b[0m \u001b[0my\u001b[0m\u001b[0;34m,\u001b[0m \u001b[0mmodel\u001b[0m\u001b[0;34m)\u001b[0m\u001b[0;34m\u001b[0m\u001b[0;34m\u001b[0m\u001b[0m\n\u001b[0m",
      "\u001b[0;32m/var/folders/0n/jtvl1jfx6hj3j5xbd39_bfp40000gp/T/ipykernel_15057/922882449.py\u001b[0m in \u001b[0;36mscore_model\u001b[0;34m(X, y, estimator, **kwargs)\u001b[0m\n\u001b[1;32m     27\u001b[0m \u001b[0;34m\u001b[0m\u001b[0m\n\u001b[1;32m     28\u001b[0m     \u001b[0;31m# Instantiate the classification model and visualizer\u001b[0m\u001b[0;34m\u001b[0m\u001b[0;34m\u001b[0m\u001b[0m\n\u001b[0;32m---> 29\u001b[0;31m     \u001b[0mmodel\u001b[0m\u001b[0;34m.\u001b[0m\u001b[0mfit\u001b[0m\u001b[0;34m(\u001b[0m\u001b[0mX\u001b[0m\u001b[0;34m,\u001b[0m \u001b[0my\u001b[0m\u001b[0;34m,\u001b[0m \u001b[0;34m**\u001b[0m\u001b[0mkwargs\u001b[0m\u001b[0;34m)\u001b[0m\u001b[0;34m\u001b[0m\u001b[0;34m\u001b[0m\u001b[0m\n\u001b[0m\u001b[1;32m     30\u001b[0m \u001b[0;34m\u001b[0m\u001b[0m\n\u001b[1;32m     31\u001b[0m     \u001b[0mexpected\u001b[0m  \u001b[0;34m=\u001b[0m \u001b[0my\u001b[0m\u001b[0;34m\u001b[0m\u001b[0;34m\u001b[0m\u001b[0m\n",
      "\u001b[0;32m~/opt/anaconda3/lib/python3.9/site-packages/sklearn/pipeline.py\u001b[0m in \u001b[0;36mfit\u001b[0;34m(self, X, y, **fit_params)\u001b[0m\n\u001b[1;32m    392\u001b[0m             \u001b[0;32mif\u001b[0m \u001b[0mself\u001b[0m\u001b[0;34m.\u001b[0m\u001b[0m_final_estimator\u001b[0m \u001b[0;34m!=\u001b[0m \u001b[0;34m\"passthrough\"\u001b[0m\u001b[0;34m:\u001b[0m\u001b[0;34m\u001b[0m\u001b[0;34m\u001b[0m\u001b[0m\n\u001b[1;32m    393\u001b[0m                 \u001b[0mfit_params_last_step\u001b[0m \u001b[0;34m=\u001b[0m \u001b[0mfit_params_steps\u001b[0m\u001b[0;34m[\u001b[0m\u001b[0mself\u001b[0m\u001b[0;34m.\u001b[0m\u001b[0msteps\u001b[0m\u001b[0;34m[\u001b[0m\u001b[0;34m-\u001b[0m\u001b[0;36m1\u001b[0m\u001b[0;34m]\u001b[0m\u001b[0;34m[\u001b[0m\u001b[0;36m0\u001b[0m\u001b[0;34m]\u001b[0m\u001b[0;34m]\u001b[0m\u001b[0;34m\u001b[0m\u001b[0;34m\u001b[0m\u001b[0m\n\u001b[0;32m--> 394\u001b[0;31m                 \u001b[0mself\u001b[0m\u001b[0;34m.\u001b[0m\u001b[0m_final_estimator\u001b[0m\u001b[0;34m.\u001b[0m\u001b[0mfit\u001b[0m\u001b[0;34m(\u001b[0m\u001b[0mXt\u001b[0m\u001b[0;34m,\u001b[0m \u001b[0my\u001b[0m\u001b[0;34m,\u001b[0m \u001b[0;34m**\u001b[0m\u001b[0mfit_params_last_step\u001b[0m\u001b[0;34m)\u001b[0m\u001b[0;34m\u001b[0m\u001b[0;34m\u001b[0m\u001b[0m\n\u001b[0m\u001b[1;32m    395\u001b[0m \u001b[0;34m\u001b[0m\u001b[0m\n\u001b[1;32m    396\u001b[0m         \u001b[0;32mreturn\u001b[0m \u001b[0mself\u001b[0m\u001b[0;34m\u001b[0m\u001b[0;34m\u001b[0m\u001b[0m\n",
      "\u001b[0;32m~/opt/anaconda3/lib/python3.9/site-packages/sklearn/svm/_base.py\u001b[0m in \u001b[0;36mfit\u001b[0;34m(self, X, y, sample_weight)\u001b[0m\n\u001b[1;32m    253\u001b[0m \u001b[0;34m\u001b[0m\u001b[0m\n\u001b[1;32m    254\u001b[0m         \u001b[0mseed\u001b[0m \u001b[0;34m=\u001b[0m \u001b[0mrnd\u001b[0m\u001b[0;34m.\u001b[0m\u001b[0mrandint\u001b[0m\u001b[0;34m(\u001b[0m\u001b[0mnp\u001b[0m\u001b[0;34m.\u001b[0m\u001b[0miinfo\u001b[0m\u001b[0;34m(\u001b[0m\u001b[0;34m\"i\"\u001b[0m\u001b[0;34m)\u001b[0m\u001b[0;34m.\u001b[0m\u001b[0mmax\u001b[0m\u001b[0;34m)\u001b[0m\u001b[0;34m\u001b[0m\u001b[0;34m\u001b[0m\u001b[0m\n\u001b[0;32m--> 255\u001b[0;31m         \u001b[0mfit\u001b[0m\u001b[0;34m(\u001b[0m\u001b[0mX\u001b[0m\u001b[0;34m,\u001b[0m \u001b[0my\u001b[0m\u001b[0;34m,\u001b[0m \u001b[0msample_weight\u001b[0m\u001b[0;34m,\u001b[0m \u001b[0msolver_type\u001b[0m\u001b[0;34m,\u001b[0m \u001b[0mkernel\u001b[0m\u001b[0;34m,\u001b[0m \u001b[0mrandom_seed\u001b[0m\u001b[0;34m=\u001b[0m\u001b[0mseed\u001b[0m\u001b[0;34m)\u001b[0m\u001b[0;34m\u001b[0m\u001b[0;34m\u001b[0m\u001b[0m\n\u001b[0m\u001b[1;32m    256\u001b[0m         \u001b[0;31m# see comment on the other call to np.iinfo in this file\u001b[0m\u001b[0;34m\u001b[0m\u001b[0;34m\u001b[0m\u001b[0m\n\u001b[1;32m    257\u001b[0m \u001b[0;34m\u001b[0m\u001b[0m\n",
      "\u001b[0;32m~/opt/anaconda3/lib/python3.9/site-packages/sklearn/svm/_base.py\u001b[0m in \u001b[0;36m_sparse_fit\u001b[0;34m(self, X, y, sample_weight, solver_type, kernel, random_seed)\u001b[0m\n\u001b[1;32m    353\u001b[0m             \u001b[0mself\u001b[0m\u001b[0;34m.\u001b[0m\u001b[0m_probB\u001b[0m\u001b[0;34m,\u001b[0m\u001b[0;34m\u001b[0m\u001b[0;34m\u001b[0m\u001b[0m\n\u001b[1;32m    354\u001b[0m             \u001b[0mself\u001b[0m\u001b[0;34m.\u001b[0m\u001b[0mfit_status_\u001b[0m\u001b[0;34m,\u001b[0m\u001b[0;34m\u001b[0m\u001b[0;34m\u001b[0m\u001b[0m\n\u001b[0;32m--> 355\u001b[0;31m         \u001b[0;34m)\u001b[0m \u001b[0;34m=\u001b[0m \u001b[0mlibsvm_sparse\u001b[0m\u001b[0;34m.\u001b[0m\u001b[0mlibsvm_sparse_train\u001b[0m\u001b[0;34m(\u001b[0m\u001b[0;34m\u001b[0m\u001b[0;34m\u001b[0m\u001b[0m\n\u001b[0m\u001b[1;32m    356\u001b[0m             \u001b[0mX\u001b[0m\u001b[0;34m.\u001b[0m\u001b[0mshape\u001b[0m\u001b[0;34m[\u001b[0m\u001b[0;36m1\u001b[0m\u001b[0;34m]\u001b[0m\u001b[0;34m,\u001b[0m\u001b[0;34m\u001b[0m\u001b[0;34m\u001b[0m\u001b[0m\n\u001b[1;32m    357\u001b[0m             \u001b[0mX\u001b[0m\u001b[0;34m.\u001b[0m\u001b[0mdata\u001b[0m\u001b[0;34m,\u001b[0m\u001b[0;34m\u001b[0m\u001b[0;34m\u001b[0m\u001b[0m\n",
      "\u001b[0;32msklearn/svm/_libsvm_sparse.pyx\u001b[0m in \u001b[0;36msklearn.svm._libsvm_sparse.libsvm_sparse_train\u001b[0;34m()\u001b[0m\n",
      "\u001b[0;31mValueError\u001b[0m: b'specified nu is infeasible'"
     ]
    }
   ],
   "source": [
    "for model in models:\n",
    "    score_model(X, y, model)"
   ]
  }
 ],
 "metadata": {
  "kernelspec": {
   "display_name": "Python 3 (ipykernel)",
   "language": "python",
   "name": "python3"
  },
  "language_info": {
   "codemirror_mode": {
    "name": "ipython",
    "version": 3
   },
   "file_extension": ".py",
   "mimetype": "text/x-python",
   "name": "python",
   "nbconvert_exporter": "python",
   "pygments_lexer": "ipython3",
   "version": "3.9.7"
  },
  "toc-autonumbering": true
 },
 "nbformat": 4,
 "nbformat_minor": 5
}
